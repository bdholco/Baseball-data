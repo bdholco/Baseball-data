{
 "cells": [
  {
   "cell_type": "markdown",
   "metadata": {},
   "source": [
    "# An inquiry into Power Laws with Baseball Stats"
   ]
  },
  {
   "cell_type": "markdown",
   "metadata": {},
   "source": [
    "## Introduction\n",
    "\n",
    "Analyzing Pareto's Law and Price's Law using two different types of productivity data which will be defined as 'intellectual' and 'physical' :\n",
    "\n",
    "Defining Pareto's Law:\n",
    "\n",
    "Pareto's Law is the famous '80/20' rule. Which is to say that about 20% of producers in a given domain will produce 80% of the overall results. The economist Vilfredo Pareto formulated it by checking tax records and finding that 20% of the people produced (or accumulated) 80% of the income in a town. So for example, if a town hjas 100 residents and produced 1,000 dollars of income then 20 of those residents will have 800 dollars of the towns income. \n",
    "\n",
    "Defining Price's Law:\n",
    "\n",
    "Price's law is similar to Parreto's law in that it is an attempt to describe how certain productive qualities can scale. It was formulated by Derek J. de Solla Price who analyzed academic publications and found that the square root of producers of published scholarly papers produced half of all publications. So for example, if 100 professors published 1000 papers then 10 of those professors will have published 500 of the total papers. \n",
    "\n",
    "Do these power laws of highly productive people work across different types of production? \n",
    "\n",
    "The different types of production:\n",
    "\n",
    "Physical: meaning something that has to be done physically by a persInteeon everytime the production happens. So for example, if i gave 100 people shovels and asked them to dig up 1000 acres of land would 20 of those people dig up 800 acres or would 10 of those people dig up 500 acres? Since the process of digging with shovels requires that every acre be dug individual again and again would one of the power laws apply to pysical porduction like that?\n",
    "\n",
    "Intellectual: meaning an intangible product that does not require physically producing the work over an over again. So for example, a piece of software like an app in an app store, once completed, it can be purchased over and over again without any extra physical production to produce it. Books, recorded music, movies and other forms of enterainment are examples of an intellectual product that can be sold endlessly despite only needing to be produced once. "
   ]
  },
  {
   "cell_type": "markdown",
   "metadata": {},
   "source": [
    "How do MLB baseball stats fit into power laws?\n",
    "\n",
    "I'm using babseball stats because of the availablity of the statistics and I think professional sports leagues may prove to be a good combination of physical and intellectual production. \n",
    "\n",
    "There is pysical production in sports because actually playing the games requires the player to show up and put in physical work. Also, because the rules are clearly defined and every team, in theory, has the same end goal of winning the league championship this hopefully removes the subjective element of analyzing productivity data as the quality of a product (as opposed to the quantity) is a difficult, inherently subjective measure to come up with.\n",
    "\n",
    "There is intellectual production in sports because payment for individual players can be based on things other than just physical production. Teams need to draw in fans with big name players whose fame can be based on intangible personal charcteristics or even advertising endorsements outside of the sport itself.\n",
    "\n"
   ]
  },
  {
   "cell_type": "markdown",
   "metadata": {},
   "source": [
    "I will be using data from 2004 which is the year Ichiro Suzuki broke the single season hits record so I figure that year will be as good as anyother arbitrary year with salary information still available. \n",
    "\n",
    "My Hypothesis is that the physical work will not scale the same as the intellectual work which will be measured in salaries. "
   ]
  },
  {
   "cell_type": "code",
   "execution_count": 114,
   "metadata": {},
   "outputs": [
    {
     "data": {
      "text/plain": [
       "(104324, 104256, 26428, 16986)"
      ]
     },
     "execution_count": 114,
     "metadata": {},
     "output_type": "execute_result"
    }
   ],
   "source": [
    "#importing libraries and data\n",
    "\n",
    "import pandas as pd\n",
    "import numpy as np\n",
    "import matplotlib.pyplot as plt\n",
    "import math\n",
    "\n",
    "Batting = pd.read_csv('Batting.csv')\n",
    "appearances = pd.read_csv('Appearances.csv')\n",
    "salaries = pd.read_csv('Salaries.csv')\n",
    "other_salaries = pd.read_csv('1985-2004sals.csv')\n",
    "\n",
    "len(Batting), len(appearances), len(salaries), len(other_salaries)"
   ]
  },
  {
   "cell_type": "code",
   "execution_count": 4,
   "metadata": {},
   "outputs": [
    {
     "data": {
      "text/html": [
       "<div>\n",
       "<style scoped>\n",
       "    .dataframe tbody tr th:only-of-type {\n",
       "        vertical-align: middle;\n",
       "    }\n",
       "\n",
       "    .dataframe tbody tr th {\n",
       "        vertical-align: top;\n",
       "    }\n",
       "\n",
       "    .dataframe thead th {\n",
       "        text-align: right;\n",
       "    }\n",
       "</style>\n",
       "<table border=\"1\" class=\"dataframe\">\n",
       "  <thead>\n",
       "    <tr style=\"text-align: right;\">\n",
       "      <th></th>\n",
       "      <th>playerID</th>\n",
       "      <th>yearID</th>\n",
       "      <th>stint</th>\n",
       "      <th>teamID</th>\n",
       "      <th>lgID</th>\n",
       "      <th>G</th>\n",
       "      <th>AB</th>\n",
       "      <th>R</th>\n",
       "      <th>H</th>\n",
       "      <th>2B</th>\n",
       "      <th>...</th>\n",
       "      <th>RBI</th>\n",
       "      <th>SB</th>\n",
       "      <th>CS</th>\n",
       "      <th>BB</th>\n",
       "      <th>SO</th>\n",
       "      <th>IBB</th>\n",
       "      <th>HBP</th>\n",
       "      <th>SH</th>\n",
       "      <th>SF</th>\n",
       "      <th>GIDP</th>\n",
       "    </tr>\n",
       "  </thead>\n",
       "  <tbody>\n",
       "    <tr>\n",
       "      <th>0</th>\n",
       "      <td>abercda01</td>\n",
       "      <td>1871</td>\n",
       "      <td>1</td>\n",
       "      <td>TRO</td>\n",
       "      <td>NaN</td>\n",
       "      <td>1</td>\n",
       "      <td>4</td>\n",
       "      <td>0</td>\n",
       "      <td>0</td>\n",
       "      <td>0</td>\n",
       "      <td>...</td>\n",
       "      <td>0.0</td>\n",
       "      <td>0.0</td>\n",
       "      <td>0.0</td>\n",
       "      <td>0</td>\n",
       "      <td>0.0</td>\n",
       "      <td>NaN</td>\n",
       "      <td>NaN</td>\n",
       "      <td>NaN</td>\n",
       "      <td>NaN</td>\n",
       "      <td>0.0</td>\n",
       "    </tr>\n",
       "    <tr>\n",
       "      <th>1</th>\n",
       "      <td>addybo01</td>\n",
       "      <td>1871</td>\n",
       "      <td>1</td>\n",
       "      <td>RC1</td>\n",
       "      <td>NaN</td>\n",
       "      <td>25</td>\n",
       "      <td>118</td>\n",
       "      <td>30</td>\n",
       "      <td>32</td>\n",
       "      <td>6</td>\n",
       "      <td>...</td>\n",
       "      <td>13.0</td>\n",
       "      <td>8.0</td>\n",
       "      <td>1.0</td>\n",
       "      <td>4</td>\n",
       "      <td>0.0</td>\n",
       "      <td>NaN</td>\n",
       "      <td>NaN</td>\n",
       "      <td>NaN</td>\n",
       "      <td>NaN</td>\n",
       "      <td>0.0</td>\n",
       "    </tr>\n",
       "    <tr>\n",
       "      <th>2</th>\n",
       "      <td>allisar01</td>\n",
       "      <td>1871</td>\n",
       "      <td>1</td>\n",
       "      <td>CL1</td>\n",
       "      <td>NaN</td>\n",
       "      <td>29</td>\n",
       "      <td>137</td>\n",
       "      <td>28</td>\n",
       "      <td>40</td>\n",
       "      <td>4</td>\n",
       "      <td>...</td>\n",
       "      <td>19.0</td>\n",
       "      <td>3.0</td>\n",
       "      <td>1.0</td>\n",
       "      <td>2</td>\n",
       "      <td>5.0</td>\n",
       "      <td>NaN</td>\n",
       "      <td>NaN</td>\n",
       "      <td>NaN</td>\n",
       "      <td>NaN</td>\n",
       "      <td>1.0</td>\n",
       "    </tr>\n",
       "    <tr>\n",
       "      <th>3</th>\n",
       "      <td>allisdo01</td>\n",
       "      <td>1871</td>\n",
       "      <td>1</td>\n",
       "      <td>WS3</td>\n",
       "      <td>NaN</td>\n",
       "      <td>27</td>\n",
       "      <td>133</td>\n",
       "      <td>28</td>\n",
       "      <td>44</td>\n",
       "      <td>10</td>\n",
       "      <td>...</td>\n",
       "      <td>27.0</td>\n",
       "      <td>1.0</td>\n",
       "      <td>1.0</td>\n",
       "      <td>0</td>\n",
       "      <td>2.0</td>\n",
       "      <td>NaN</td>\n",
       "      <td>NaN</td>\n",
       "      <td>NaN</td>\n",
       "      <td>NaN</td>\n",
       "      <td>0.0</td>\n",
       "    </tr>\n",
       "    <tr>\n",
       "      <th>4</th>\n",
       "      <td>ansonca01</td>\n",
       "      <td>1871</td>\n",
       "      <td>1</td>\n",
       "      <td>RC1</td>\n",
       "      <td>NaN</td>\n",
       "      <td>25</td>\n",
       "      <td>120</td>\n",
       "      <td>29</td>\n",
       "      <td>39</td>\n",
       "      <td>11</td>\n",
       "      <td>...</td>\n",
       "      <td>16.0</td>\n",
       "      <td>6.0</td>\n",
       "      <td>2.0</td>\n",
       "      <td>2</td>\n",
       "      <td>1.0</td>\n",
       "      <td>NaN</td>\n",
       "      <td>NaN</td>\n",
       "      <td>NaN</td>\n",
       "      <td>NaN</td>\n",
       "      <td>0.0</td>\n",
       "    </tr>\n",
       "  </tbody>\n",
       "</table>\n",
       "<p>5 rows × 22 columns</p>\n",
       "</div>"
      ],
      "text/plain": [
       "    playerID  yearID  stint teamID lgID   G   AB   R   H  2B  ...    RBI   SB  \\\n",
       "0  abercda01    1871      1    TRO  NaN   1    4   0   0   0  ...    0.0  0.0   \n",
       "1   addybo01    1871      1    RC1  NaN  25  118  30  32   6  ...   13.0  8.0   \n",
       "2  allisar01    1871      1    CL1  NaN  29  137  28  40   4  ...   19.0  3.0   \n",
       "3  allisdo01    1871      1    WS3  NaN  27  133  28  44  10  ...   27.0  1.0   \n",
       "4  ansonca01    1871      1    RC1  NaN  25  120  29  39  11  ...   16.0  6.0   \n",
       "\n",
       "    CS  BB   SO  IBB  HBP  SH  SF  GIDP  \n",
       "0  0.0   0  0.0  NaN  NaN NaN NaN   0.0  \n",
       "1  1.0   4  0.0  NaN  NaN NaN NaN   0.0  \n",
       "2  1.0   2  5.0  NaN  NaN NaN NaN   1.0  \n",
       "3  1.0   0  2.0  NaN  NaN NaN NaN   0.0  \n",
       "4  2.0   2  1.0  NaN  NaN NaN NaN   0.0  \n",
       "\n",
       "[5 rows x 22 columns]"
      ]
     },
     "execution_count": 4,
     "metadata": {},
     "output_type": "execute_result"
    }
   ],
   "source": [
    "Batting.head()"
   ]
  },
  {
   "cell_type": "code",
   "execution_count": 5,
   "metadata": {},
   "outputs": [
    {
     "data": {
      "text/html": [
       "<div>\n",
       "<style scoped>\n",
       "    .dataframe tbody tr th:only-of-type {\n",
       "        vertical-align: middle;\n",
       "    }\n",
       "\n",
       "    .dataframe tbody tr th {\n",
       "        vertical-align: top;\n",
       "    }\n",
       "\n",
       "    .dataframe thead th {\n",
       "        text-align: right;\n",
       "    }\n",
       "</style>\n",
       "<table border=\"1\" class=\"dataframe\">\n",
       "  <thead>\n",
       "    <tr style=\"text-align: right;\">\n",
       "      <th></th>\n",
       "      <th>yearID</th>\n",
       "      <th>teamID</th>\n",
       "      <th>lgID</th>\n",
       "      <th>playerID</th>\n",
       "      <th>G_all</th>\n",
       "      <th>GS</th>\n",
       "      <th>G_batting</th>\n",
       "      <th>G_defense</th>\n",
       "      <th>G_p</th>\n",
       "      <th>G_c</th>\n",
       "      <th>...</th>\n",
       "      <th>G_2b</th>\n",
       "      <th>G_3b</th>\n",
       "      <th>G_ss</th>\n",
       "      <th>G_lf</th>\n",
       "      <th>G_cf</th>\n",
       "      <th>G_rf</th>\n",
       "      <th>G_of</th>\n",
       "      <th>G_dh</th>\n",
       "      <th>G_ph</th>\n",
       "      <th>G_pr</th>\n",
       "    </tr>\n",
       "  </thead>\n",
       "  <tbody>\n",
       "    <tr>\n",
       "      <th>0</th>\n",
       "      <td>1871</td>\n",
       "      <td>TRO</td>\n",
       "      <td>NaN</td>\n",
       "      <td>abercda01</td>\n",
       "      <td>1</td>\n",
       "      <td>1.0</td>\n",
       "      <td>1</td>\n",
       "      <td>1.0</td>\n",
       "      <td>0</td>\n",
       "      <td>0</td>\n",
       "      <td>...</td>\n",
       "      <td>0</td>\n",
       "      <td>0</td>\n",
       "      <td>1</td>\n",
       "      <td>0</td>\n",
       "      <td>0</td>\n",
       "      <td>0</td>\n",
       "      <td>0</td>\n",
       "      <td>0.0</td>\n",
       "      <td>0.0</td>\n",
       "      <td>0.0</td>\n",
       "    </tr>\n",
       "    <tr>\n",
       "      <th>1</th>\n",
       "      <td>1871</td>\n",
       "      <td>RC1</td>\n",
       "      <td>NaN</td>\n",
       "      <td>addybo01</td>\n",
       "      <td>25</td>\n",
       "      <td>25.0</td>\n",
       "      <td>25</td>\n",
       "      <td>25.0</td>\n",
       "      <td>0</td>\n",
       "      <td>0</td>\n",
       "      <td>...</td>\n",
       "      <td>22</td>\n",
       "      <td>0</td>\n",
       "      <td>3</td>\n",
       "      <td>0</td>\n",
       "      <td>0</td>\n",
       "      <td>0</td>\n",
       "      <td>0</td>\n",
       "      <td>0.0</td>\n",
       "      <td>0.0</td>\n",
       "      <td>0.0</td>\n",
       "    </tr>\n",
       "    <tr>\n",
       "      <th>2</th>\n",
       "      <td>1871</td>\n",
       "      <td>CL1</td>\n",
       "      <td>NaN</td>\n",
       "      <td>allisar01</td>\n",
       "      <td>29</td>\n",
       "      <td>29.0</td>\n",
       "      <td>29</td>\n",
       "      <td>29.0</td>\n",
       "      <td>0</td>\n",
       "      <td>0</td>\n",
       "      <td>...</td>\n",
       "      <td>2</td>\n",
       "      <td>0</td>\n",
       "      <td>0</td>\n",
       "      <td>0</td>\n",
       "      <td>29</td>\n",
       "      <td>0</td>\n",
       "      <td>29</td>\n",
       "      <td>0.0</td>\n",
       "      <td>0.0</td>\n",
       "      <td>0.0</td>\n",
       "    </tr>\n",
       "    <tr>\n",
       "      <th>3</th>\n",
       "      <td>1871</td>\n",
       "      <td>WS3</td>\n",
       "      <td>NaN</td>\n",
       "      <td>allisdo01</td>\n",
       "      <td>27</td>\n",
       "      <td>27.0</td>\n",
       "      <td>27</td>\n",
       "      <td>27.0</td>\n",
       "      <td>0</td>\n",
       "      <td>27</td>\n",
       "      <td>...</td>\n",
       "      <td>0</td>\n",
       "      <td>0</td>\n",
       "      <td>0</td>\n",
       "      <td>0</td>\n",
       "      <td>0</td>\n",
       "      <td>0</td>\n",
       "      <td>0</td>\n",
       "      <td>0.0</td>\n",
       "      <td>0.0</td>\n",
       "      <td>0.0</td>\n",
       "    </tr>\n",
       "    <tr>\n",
       "      <th>4</th>\n",
       "      <td>1871</td>\n",
       "      <td>RC1</td>\n",
       "      <td>NaN</td>\n",
       "      <td>ansonca01</td>\n",
       "      <td>25</td>\n",
       "      <td>25.0</td>\n",
       "      <td>25</td>\n",
       "      <td>25.0</td>\n",
       "      <td>0</td>\n",
       "      <td>5</td>\n",
       "      <td>...</td>\n",
       "      <td>2</td>\n",
       "      <td>20</td>\n",
       "      <td>0</td>\n",
       "      <td>1</td>\n",
       "      <td>0</td>\n",
       "      <td>0</td>\n",
       "      <td>1</td>\n",
       "      <td>0.0</td>\n",
       "      <td>0.0</td>\n",
       "      <td>0.0</td>\n",
       "    </tr>\n",
       "  </tbody>\n",
       "</table>\n",
       "<p>5 rows × 21 columns</p>\n",
       "</div>"
      ],
      "text/plain": [
       "   yearID teamID lgID   playerID  G_all    GS  G_batting  G_defense  G_p  G_c  \\\n",
       "0    1871    TRO  NaN  abercda01      1   1.0          1        1.0    0    0   \n",
       "1    1871    RC1  NaN   addybo01     25  25.0         25       25.0    0    0   \n",
       "2    1871    CL1  NaN  allisar01     29  29.0         29       29.0    0    0   \n",
       "3    1871    WS3  NaN  allisdo01     27  27.0         27       27.0    0   27   \n",
       "4    1871    RC1  NaN  ansonca01     25  25.0         25       25.0    0    5   \n",
       "\n",
       "   ...   G_2b  G_3b  G_ss  G_lf  G_cf  G_rf  G_of  G_dh  G_ph  G_pr  \n",
       "0  ...      0     0     1     0     0     0     0   0.0   0.0   0.0  \n",
       "1  ...     22     0     3     0     0     0     0   0.0   0.0   0.0  \n",
       "2  ...      2     0     0     0    29     0    29   0.0   0.0   0.0  \n",
       "3  ...      0     0     0     0     0     0     0   0.0   0.0   0.0  \n",
       "4  ...      2    20     0     1     0     0     1   0.0   0.0   0.0  \n",
       "\n",
       "[5 rows x 21 columns]"
      ]
     },
     "execution_count": 5,
     "metadata": {},
     "output_type": "execute_result"
    }
   ],
   "source": [
    "appearances.head()"
   ]
  },
  {
   "cell_type": "markdown",
   "metadata": {},
   "source": [
    "Salary data had to be collected from a different source than the data for on-field player stats. The first file only had data for the needed for about 40-50 players"
   ]
  },
  {
   "cell_type": "code",
   "execution_count": 115,
   "metadata": {},
   "outputs": [
    {
     "data": {
      "text/html": [
       "<div>\n",
       "<style scoped>\n",
       "    .dataframe tbody tr th:only-of-type {\n",
       "        vertical-align: middle;\n",
       "    }\n",
       "\n",
       "    .dataframe tbody tr th {\n",
       "        vertical-align: top;\n",
       "    }\n",
       "\n",
       "    .dataframe thead th {\n",
       "        text-align: right;\n",
       "    }\n",
       "</style>\n",
       "<table border=\"1\" class=\"dataframe\">\n",
       "  <thead>\n",
       "    <tr style=\"text-align: right;\">\n",
       "      <th></th>\n",
       "      <th>Aase, Don</th>\n",
       "      <th>525000</th>\n",
       "      <th>1985</th>\n",
       "      <th>Bal</th>\n",
       "      <th>AL</th>\n",
       "    </tr>\n",
       "  </thead>\n",
       "  <tbody>\n",
       "    <tr>\n",
       "      <th>0</th>\n",
       "      <td>Aase, Don</td>\n",
       "      <td>600000</td>\n",
       "      <td>1986</td>\n",
       "      <td>Bal</td>\n",
       "      <td>AL</td>\n",
       "    </tr>\n",
       "    <tr>\n",
       "      <th>1</th>\n",
       "      <td>Aase, Don</td>\n",
       "      <td>625000</td>\n",
       "      <td>1987</td>\n",
       "      <td>Bal</td>\n",
       "      <td>AL</td>\n",
       "    </tr>\n",
       "    <tr>\n",
       "      <th>2</th>\n",
       "      <td>Aase, Don</td>\n",
       "      <td>675000</td>\n",
       "      <td>1988</td>\n",
       "      <td>Bal</td>\n",
       "      <td>AL</td>\n",
       "    </tr>\n",
       "    <tr>\n",
       "      <th>3</th>\n",
       "      <td>Aase, Don</td>\n",
       "      <td>400000</td>\n",
       "      <td>1989</td>\n",
       "      <td>NYM</td>\n",
       "      <td>NL</td>\n",
       "    </tr>\n",
       "    <tr>\n",
       "      <th>4</th>\n",
       "      <td>Abbott, Jeff</td>\n",
       "      <td>175000</td>\n",
       "      <td>1998</td>\n",
       "      <td>CWS</td>\n",
       "      <td>AL</td>\n",
       "    </tr>\n",
       "  </tbody>\n",
       "</table>\n",
       "</div>"
      ],
      "text/plain": [
       "      Aase, Don  525000  1985  Bal  AL\n",
       "0     Aase, Don  600000  1986  Bal  AL\n",
       "1     Aase, Don  625000  1987  Bal  AL\n",
       "2     Aase, Don  675000  1988  Bal  AL\n",
       "3     Aase, Don  400000  1989  NYM  NL\n",
       "4  Abbott, Jeff  175000  1998  CWS  AL"
      ]
     },
     "execution_count": 115,
     "metadata": {},
     "output_type": "execute_result"
    }
   ],
   "source": [
    "other_salaries.head() \n",
    "\n",
    "\n"
   ]
  },
  {
   "cell_type": "code",
   "execution_count": 116,
   "metadata": {},
   "outputs": [
    {
     "data": {
      "text/html": [
       "<div>\n",
       "<style scoped>\n",
       "    .dataframe tbody tr th:only-of-type {\n",
       "        vertical-align: middle;\n",
       "    }\n",
       "\n",
       "    .dataframe tbody tr th {\n",
       "        vertical-align: top;\n",
       "    }\n",
       "\n",
       "    .dataframe thead th {\n",
       "        text-align: right;\n",
       "    }\n",
       "</style>\n",
       "<table border=\"1\" class=\"dataframe\">\n",
       "  <thead>\n",
       "    <tr style=\"text-align: right;\">\n",
       "      <th></th>\n",
       "      <th>playerID</th>\n",
       "      <th>salary</th>\n",
       "      <th>yearID</th>\n",
       "      <th>team</th>\n",
       "      <th>league</th>\n",
       "    </tr>\n",
       "  </thead>\n",
       "  <tbody>\n",
       "    <tr>\n",
       "      <th>0</th>\n",
       "      <td>Aase, Don</td>\n",
       "      <td>525000</td>\n",
       "      <td>1985</td>\n",
       "      <td>Bal</td>\n",
       "      <td>AL</td>\n",
       "    </tr>\n",
       "    <tr>\n",
       "      <th>1</th>\n",
       "      <td>Aase, Don</td>\n",
       "      <td>600000</td>\n",
       "      <td>1986</td>\n",
       "      <td>Bal</td>\n",
       "      <td>AL</td>\n",
       "    </tr>\n",
       "    <tr>\n",
       "      <th>2</th>\n",
       "      <td>Aase, Don</td>\n",
       "      <td>625000</td>\n",
       "      <td>1987</td>\n",
       "      <td>Bal</td>\n",
       "      <td>AL</td>\n",
       "    </tr>\n",
       "    <tr>\n",
       "      <th>3</th>\n",
       "      <td>Aase, Don</td>\n",
       "      <td>675000</td>\n",
       "      <td>1988</td>\n",
       "      <td>Bal</td>\n",
       "      <td>AL</td>\n",
       "    </tr>\n",
       "    <tr>\n",
       "      <th>4</th>\n",
       "      <td>Aase, Don</td>\n",
       "      <td>400000</td>\n",
       "      <td>1989</td>\n",
       "      <td>NYM</td>\n",
       "      <td>NL</td>\n",
       "    </tr>\n",
       "  </tbody>\n",
       "</table>\n",
       "</div>"
      ],
      "text/plain": [
       "    playerID  salary  yearID team league\n",
       "0  Aase, Don  525000    1985  Bal     AL\n",
       "1  Aase, Don  600000    1986  Bal     AL\n",
       "2  Aase, Don  625000    1987  Bal     AL\n",
       "3  Aase, Don  675000    1988  Bal     AL\n",
       "4  Aase, Don  400000    1989  NYM     NL"
      ]
     },
     "execution_count": 116,
     "metadata": {},
     "output_type": "execute_result"
    }
   ],
   "source": [
    "#the csv imported without column headers. Adding them in this cell.\n",
    "\n",
    "col_names = [\"playerID\", \"salary\", \"yearID\", \"team\", \"league\"]\n",
    "\n",
    "other_salaries = pd.read_csv('1985-2004sals.csv', names=col_names)\n",
    "\n",
    "\n",
    "other_salaries.head()"
   ]
  },
  {
   "cell_type": "code",
   "execution_count": 118,
   "metadata": {},
   "outputs": [
    {
     "data": {
      "text/html": [
       "<div>\n",
       "<style scoped>\n",
       "    .dataframe tbody tr th:only-of-type {\n",
       "        vertical-align: middle;\n",
       "    }\n",
       "\n",
       "    .dataframe tbody tr th {\n",
       "        vertical-align: top;\n",
       "    }\n",
       "\n",
       "    .dataframe thead th {\n",
       "        text-align: right;\n",
       "    }\n",
       "</style>\n",
       "<table border=\"1\" class=\"dataframe\">\n",
       "  <thead>\n",
       "    <tr style=\"text-align: right;\">\n",
       "      <th></th>\n",
       "      <th>playerID</th>\n",
       "      <th>salary</th>\n",
       "      <th>yearID</th>\n",
       "      <th>team</th>\n",
       "      <th>league</th>\n",
       "    </tr>\n",
       "  </thead>\n",
       "  <tbody>\n",
       "    <tr>\n",
       "      <th>16161</th>\n",
       "      <td>Colon, Bartolo</td>\n",
       "      <td>11000000</td>\n",
       "      <td>2004</td>\n",
       "      <td>Ana</td>\n",
       "      <td>AL</td>\n",
       "    </tr>\n",
       "    <tr>\n",
       "      <th>16162</th>\n",
       "      <td>Guerrero, Vladimir</td>\n",
       "      <td>11000000</td>\n",
       "      <td>2004</td>\n",
       "      <td>Ana</td>\n",
       "      <td>AL</td>\n",
       "    </tr>\n",
       "    <tr>\n",
       "      <th>16163</th>\n",
       "      <td>Glaus, Troy</td>\n",
       "      <td>10450000</td>\n",
       "      <td>2004</td>\n",
       "      <td>Ana</td>\n",
       "      <td>AL</td>\n",
       "    </tr>\n",
       "    <tr>\n",
       "      <th>16164</th>\n",
       "      <td>Salmon, Tim</td>\n",
       "      <td>9900000</td>\n",
       "      <td>2004</td>\n",
       "      <td>Ana</td>\n",
       "      <td>AL</td>\n",
       "    </tr>\n",
       "    <tr>\n",
       "      <th>16165</th>\n",
       "      <td>Sele, Aaron</td>\n",
       "      <td>8666667</td>\n",
       "      <td>2004</td>\n",
       "      <td>Ana</td>\n",
       "      <td>AL</td>\n",
       "    </tr>\n",
       "  </tbody>\n",
       "</table>\n",
       "</div>"
      ],
      "text/plain": [
       "                 playerID    salary  yearID team league\n",
       "16161      Colon, Bartolo  11000000    2004  Ana     AL\n",
       "16162  Guerrero, Vladimir  11000000    2004  Ana     AL\n",
       "16163         Glaus, Troy  10450000    2004  Ana     AL\n",
       "16164         Salmon, Tim   9900000    2004  Ana     AL\n",
       "16165         Sele, Aaron   8666667    2004  Ana     AL"
      ]
     },
     "execution_count": 118,
     "metadata": {},
     "output_type": "execute_result"
    }
   ],
   "source": [
    "#adjusted inflation data does not seem to be immediately available\n",
    "#so will be using data for one year at a time\n",
    "\n",
    "salaries_oh_four = other_salaries.query(\"yearID == 2004\")\n",
    "\n",
    "salaries_oh_four.head()"
   ]
  },
  {
   "cell_type": "code",
   "execution_count": 137,
   "metadata": {},
   "outputs": [
    {
     "data": {
      "text/html": [
       "<div>\n",
       "<style scoped>\n",
       "    .dataframe tbody tr th:only-of-type {\n",
       "        vertical-align: middle;\n",
       "    }\n",
       "\n",
       "    .dataframe tbody tr th {\n",
       "        vertical-align: top;\n",
       "    }\n",
       "\n",
       "    .dataframe thead th {\n",
       "        text-align: right;\n",
       "    }\n",
       "</style>\n",
       "<table border=\"1\" class=\"dataframe\">\n",
       "  <thead>\n",
       "    <tr style=\"text-align: right;\">\n",
       "      <th></th>\n",
       "      <th>playerID</th>\n",
       "      <th>salary</th>\n",
       "      <th>yearID</th>\n",
       "      <th>team</th>\n",
       "      <th>league</th>\n",
       "    </tr>\n",
       "  </thead>\n",
       "  <tbody>\n",
       "    <tr>\n",
       "      <th>16446</th>\n",
       "      <td>Suzuki, Ichiro</td>\n",
       "      <td>6528000</td>\n",
       "      <td>2004</td>\n",
       "      <td>Sea</td>\n",
       "      <td>AL</td>\n",
       "    </tr>\n",
       "  </tbody>\n",
       "</table>\n",
       "</div>"
      ],
      "text/plain": [
       "             playerID   salary  yearID team league\n",
       "16446  Suzuki, Ichiro  6528000    2004  Sea     AL"
      ]
     },
     "execution_count": 137,
     "metadata": {},
     "output_type": "execute_result"
    }
   ],
   "source": [
    "salaries_oh_four.query('playerID == \"Suzuki, Ichiro\"')"
   ]
  },
  {
   "cell_type": "code",
   "execution_count": 119,
   "metadata": {},
   "outputs": [
    {
     "data": {
      "text/plain": [
       "(1346, 1345, 1553)"
      ]
     },
     "execution_count": 119,
     "metadata": {},
     "output_type": "execute_result"
    }
   ],
   "source": [
    "#all of this data came from the same source and it is organized in the same way\n",
    "#merging them all\n",
    "\n",
    "df = Batting.query(\"yearID == 2004\")\n",
    "\n",
    "df2 = appearances.query(\"yearID == 2004\")\n",
    "\n",
    "df3 = salaries.query(\"yearID == 2004\")\n",
    "\n",
    "len(df), len(df2), len(df4)"
   ]
  },
  {
   "cell_type": "code",
   "execution_count": 54,
   "metadata": {},
   "outputs": [
    {
     "data": {
      "text/plain": [
       "(   yearID teamID lgID   playerID  salary\n",
       " 0    1985    ATL   NL  barkele01  870000\n",
       " 1    1985    ATL   NL  bedrost01  550000\n",
       " 2    1985    ATL   NL  benedbr01  545000\n",
       " 3    1985    ATL   NL   campri01  633333\n",
       " 4    1985    ATL   NL  ceronri01  625000,\n",
       "     playerID  yearID  stint teamID lgID   G   AB   R   H  2B  ...    RBI   SB  \\\n",
       " 0  abercda01    1871      1    TRO  NaN   1    4   0   0   0  ...    0.0  0.0   \n",
       " 1   addybo01    1871      1    RC1  NaN  25  118  30  32   6  ...   13.0  8.0   \n",
       " 2  allisar01    1871      1    CL1  NaN  29  137  28  40   4  ...   19.0  3.0   \n",
       " 3  allisdo01    1871      1    WS3  NaN  27  133  28  44  10  ...   27.0  1.0   \n",
       " 4  ansonca01    1871      1    RC1  NaN  25  120  29  39  11  ...   16.0  6.0   \n",
       " \n",
       "     CS  BB   SO  IBB  HBP  SH  SF  GIDP  \n",
       " 0  0.0   0  0.0  NaN  NaN NaN NaN   0.0  \n",
       " 1  1.0   4  0.0  NaN  NaN NaN NaN   0.0  \n",
       " 2  1.0   2  5.0  NaN  NaN NaN NaN   1.0  \n",
       " 3  1.0   0  2.0  NaN  NaN NaN NaN   0.0  \n",
       " 4  2.0   2  1.0  NaN  NaN NaN NaN   0.0  \n",
       " \n",
       " [5 rows x 22 columns],\n",
       "    yearID teamID lgID   playerID  G_all    GS  G_batting  G_defense  G_p  G_c  \\\n",
       " 0    1871    TRO  NaN  abercda01      1   1.0          1        1.0    0    0   \n",
       " 1    1871    RC1  NaN   addybo01     25  25.0         25       25.0    0    0   \n",
       " 2    1871    CL1  NaN  allisar01     29  29.0         29       29.0    0    0   \n",
       " 3    1871    WS3  NaN  allisdo01     27  27.0         27       27.0    0   27   \n",
       " 4    1871    RC1  NaN  ansonca01     25  25.0         25       25.0    0    5   \n",
       " \n",
       "    ...   G_2b  G_3b  G_ss  G_lf  G_cf  G_rf  G_of  G_dh  G_ph  G_pr  \n",
       " 0  ...      0     0     1     0     0     0     0   0.0   0.0   0.0  \n",
       " 1  ...     22     0     3     0     0     0     0   0.0   0.0   0.0  \n",
       " 2  ...      2     0     0     0    29     0    29   0.0   0.0   0.0  \n",
       " 3  ...      0     0     0     0     0     0     0   0.0   0.0   0.0  \n",
       " 4  ...      2    20     0     1     0     0     1   0.0   0.0   0.0  \n",
       " \n",
       " [5 rows x 21 columns])"
      ]
     },
     "execution_count": 54,
     "metadata": {},
     "output_type": "execute_result"
    }
   ],
   "source": [
    "salaries.head(), Batting.head(), appearances.head()"
   ]
  },
  {
   "cell_type": "code",
   "execution_count": 122,
   "metadata": {},
   "outputs": [],
   "source": [
    "df4 = pd.merge(df, df2, on='playerID', how='outer')\n",
    "\n",
    "df5 = pd.merge(df3,df4, on='playerID', how='outer' )\n",
    "\n",
    "df6 = df5.drop_duplicates(\"playerID\")\n",
    "\n"
   ]
  },
  {
   "cell_type": "code",
   "execution_count": 145,
   "metadata": {},
   "outputs": [
    {
     "data": {
      "text/html": [
       "<div>\n",
       "<style scoped>\n",
       "    .dataframe tbody tr th:only-of-type {\n",
       "        vertical-align: middle;\n",
       "    }\n",
       "\n",
       "    .dataframe tbody tr th {\n",
       "        vertical-align: top;\n",
       "    }\n",
       "\n",
       "    .dataframe thead th {\n",
       "        text-align: right;\n",
       "    }\n",
       "</style>\n",
       "<table border=\"1\" class=\"dataframe\">\n",
       "  <thead>\n",
       "    <tr style=\"text-align: right;\">\n",
       "      <th></th>\n",
       "      <th>playerID</th>\n",
       "      <th>yearID</th>\n",
       "      <th>stint</th>\n",
       "      <th>teamID</th>\n",
       "      <th>lgID</th>\n",
       "      <th>G</th>\n",
       "      <th>AB</th>\n",
       "      <th>R</th>\n",
       "      <th>H</th>\n",
       "      <th>2B</th>\n",
       "      <th>...</th>\n",
       "      <th>RBI</th>\n",
       "      <th>SB</th>\n",
       "      <th>CS</th>\n",
       "      <th>BB</th>\n",
       "      <th>SO</th>\n",
       "      <th>IBB</th>\n",
       "      <th>HBP</th>\n",
       "      <th>SH</th>\n",
       "      <th>SF</th>\n",
       "      <th>GIDP</th>\n",
       "    </tr>\n",
       "  </thead>\n",
       "  <tbody>\n",
       "    <tr>\n",
       "      <th>81815</th>\n",
       "      <td>suzukic01</td>\n",
       "      <td>2001</td>\n",
       "      <td>1</td>\n",
       "      <td>SEA</td>\n",
       "      <td>AL</td>\n",
       "      <td>157</td>\n",
       "      <td>692</td>\n",
       "      <td>127</td>\n",
       "      <td>242</td>\n",
       "      <td>34</td>\n",
       "      <td>...</td>\n",
       "      <td>69.0</td>\n",
       "      <td>56.0</td>\n",
       "      <td>14.0</td>\n",
       "      <td>30</td>\n",
       "      <td>53.0</td>\n",
       "      <td>10.0</td>\n",
       "      <td>8.0</td>\n",
       "      <td>4.0</td>\n",
       "      <td>4.0</td>\n",
       "      <td>3.0</td>\n",
       "    </tr>\n",
       "    <tr>\n",
       "      <th>83143</th>\n",
       "      <td>suzukic01</td>\n",
       "      <td>2002</td>\n",
       "      <td>1</td>\n",
       "      <td>SEA</td>\n",
       "      <td>AL</td>\n",
       "      <td>157</td>\n",
       "      <td>647</td>\n",
       "      <td>111</td>\n",
       "      <td>208</td>\n",
       "      <td>27</td>\n",
       "      <td>...</td>\n",
       "      <td>51.0</td>\n",
       "      <td>31.0</td>\n",
       "      <td>15.0</td>\n",
       "      <td>68</td>\n",
       "      <td>62.0</td>\n",
       "      <td>27.0</td>\n",
       "      <td>5.0</td>\n",
       "      <td>3.0</td>\n",
       "      <td>5.0</td>\n",
       "      <td>8.0</td>\n",
       "    </tr>\n",
       "    <tr>\n",
       "      <th>84473</th>\n",
       "      <td>suzukic01</td>\n",
       "      <td>2003</td>\n",
       "      <td>1</td>\n",
       "      <td>SEA</td>\n",
       "      <td>AL</td>\n",
       "      <td>159</td>\n",
       "      <td>679</td>\n",
       "      <td>111</td>\n",
       "      <td>212</td>\n",
       "      <td>29</td>\n",
       "      <td>...</td>\n",
       "      <td>62.0</td>\n",
       "      <td>34.0</td>\n",
       "      <td>8.0</td>\n",
       "      <td>36</td>\n",
       "      <td>69.0</td>\n",
       "      <td>7.0</td>\n",
       "      <td>6.0</td>\n",
       "      <td>3.0</td>\n",
       "      <td>1.0</td>\n",
       "      <td>3.0</td>\n",
       "    </tr>\n",
       "    <tr>\n",
       "      <th>85828</th>\n",
       "      <td>suzukic01</td>\n",
       "      <td>2004</td>\n",
       "      <td>1</td>\n",
       "      <td>SEA</td>\n",
       "      <td>AL</td>\n",
       "      <td>161</td>\n",
       "      <td>704</td>\n",
       "      <td>101</td>\n",
       "      <td>262</td>\n",
       "      <td>24</td>\n",
       "      <td>...</td>\n",
       "      <td>60.0</td>\n",
       "      <td>36.0</td>\n",
       "      <td>11.0</td>\n",
       "      <td>49</td>\n",
       "      <td>63.0</td>\n",
       "      <td>19.0</td>\n",
       "      <td>4.0</td>\n",
       "      <td>2.0</td>\n",
       "      <td>3.0</td>\n",
       "      <td>6.0</td>\n",
       "    </tr>\n",
       "    <tr>\n",
       "      <th>87151</th>\n",
       "      <td>suzukic01</td>\n",
       "      <td>2005</td>\n",
       "      <td>1</td>\n",
       "      <td>SEA</td>\n",
       "      <td>AL</td>\n",
       "      <td>162</td>\n",
       "      <td>679</td>\n",
       "      <td>111</td>\n",
       "      <td>206</td>\n",
       "      <td>21</td>\n",
       "      <td>...</td>\n",
       "      <td>68.0</td>\n",
       "      <td>33.0</td>\n",
       "      <td>8.0</td>\n",
       "      <td>48</td>\n",
       "      <td>66.0</td>\n",
       "      <td>23.0</td>\n",
       "      <td>4.0</td>\n",
       "      <td>2.0</td>\n",
       "      <td>6.0</td>\n",
       "      <td>5.0</td>\n",
       "    </tr>\n",
       "    <tr>\n",
       "      <th>88528</th>\n",
       "      <td>suzukic01</td>\n",
       "      <td>2006</td>\n",
       "      <td>1</td>\n",
       "      <td>SEA</td>\n",
       "      <td>AL</td>\n",
       "      <td>161</td>\n",
       "      <td>695</td>\n",
       "      <td>110</td>\n",
       "      <td>224</td>\n",
       "      <td>20</td>\n",
       "      <td>...</td>\n",
       "      <td>49.0</td>\n",
       "      <td>45.0</td>\n",
       "      <td>2.0</td>\n",
       "      <td>49</td>\n",
       "      <td>71.0</td>\n",
       "      <td>16.0</td>\n",
       "      <td>5.0</td>\n",
       "      <td>1.0</td>\n",
       "      <td>2.0</td>\n",
       "      <td>2.0</td>\n",
       "    </tr>\n",
       "    <tr>\n",
       "      <th>89914</th>\n",
       "      <td>suzukic01</td>\n",
       "      <td>2007</td>\n",
       "      <td>1</td>\n",
       "      <td>SEA</td>\n",
       "      <td>AL</td>\n",
       "      <td>161</td>\n",
       "      <td>678</td>\n",
       "      <td>111</td>\n",
       "      <td>238</td>\n",
       "      <td>22</td>\n",
       "      <td>...</td>\n",
       "      <td>68.0</td>\n",
       "      <td>37.0</td>\n",
       "      <td>8.0</td>\n",
       "      <td>49</td>\n",
       "      <td>77.0</td>\n",
       "      <td>13.0</td>\n",
       "      <td>3.0</td>\n",
       "      <td>4.0</td>\n",
       "      <td>2.0</td>\n",
       "      <td>7.0</td>\n",
       "    </tr>\n",
       "    <tr>\n",
       "      <th>91307</th>\n",
       "      <td>suzukic01</td>\n",
       "      <td>2008</td>\n",
       "      <td>1</td>\n",
       "      <td>SEA</td>\n",
       "      <td>AL</td>\n",
       "      <td>162</td>\n",
       "      <td>686</td>\n",
       "      <td>103</td>\n",
       "      <td>213</td>\n",
       "      <td>20</td>\n",
       "      <td>...</td>\n",
       "      <td>42.0</td>\n",
       "      <td>43.0</td>\n",
       "      <td>4.0</td>\n",
       "      <td>51</td>\n",
       "      <td>65.0</td>\n",
       "      <td>12.0</td>\n",
       "      <td>5.0</td>\n",
       "      <td>3.0</td>\n",
       "      <td>4.0</td>\n",
       "      <td>8.0</td>\n",
       "    </tr>\n",
       "    <tr>\n",
       "      <th>92691</th>\n",
       "      <td>suzukic01</td>\n",
       "      <td>2009</td>\n",
       "      <td>1</td>\n",
       "      <td>SEA</td>\n",
       "      <td>AL</td>\n",
       "      <td>146</td>\n",
       "      <td>639</td>\n",
       "      <td>88</td>\n",
       "      <td>225</td>\n",
       "      <td>31</td>\n",
       "      <td>...</td>\n",
       "      <td>46.0</td>\n",
       "      <td>26.0</td>\n",
       "      <td>9.0</td>\n",
       "      <td>32</td>\n",
       "      <td>71.0</td>\n",
       "      <td>15.0</td>\n",
       "      <td>4.0</td>\n",
       "      <td>2.0</td>\n",
       "      <td>1.0</td>\n",
       "      <td>1.0</td>\n",
       "    </tr>\n",
       "    <tr>\n",
       "      <th>94053</th>\n",
       "      <td>suzukic01</td>\n",
       "      <td>2010</td>\n",
       "      <td>1</td>\n",
       "      <td>SEA</td>\n",
       "      <td>AL</td>\n",
       "      <td>162</td>\n",
       "      <td>680</td>\n",
       "      <td>74</td>\n",
       "      <td>214</td>\n",
       "      <td>30</td>\n",
       "      <td>...</td>\n",
       "      <td>43.0</td>\n",
       "      <td>42.0</td>\n",
       "      <td>9.0</td>\n",
       "      <td>45</td>\n",
       "      <td>86.0</td>\n",
       "      <td>13.0</td>\n",
       "      <td>3.0</td>\n",
       "      <td>3.0</td>\n",
       "      <td>1.0</td>\n",
       "      <td>3.0</td>\n",
       "    </tr>\n",
       "    <tr>\n",
       "      <th>95430</th>\n",
       "      <td>suzukic01</td>\n",
       "      <td>2011</td>\n",
       "      <td>1</td>\n",
       "      <td>SEA</td>\n",
       "      <td>AL</td>\n",
       "      <td>161</td>\n",
       "      <td>677</td>\n",
       "      <td>80</td>\n",
       "      <td>184</td>\n",
       "      <td>22</td>\n",
       "      <td>...</td>\n",
       "      <td>47.0</td>\n",
       "      <td>40.0</td>\n",
       "      <td>7.0</td>\n",
       "      <td>39</td>\n",
       "      <td>69.0</td>\n",
       "      <td>13.0</td>\n",
       "      <td>0.0</td>\n",
       "      <td>1.0</td>\n",
       "      <td>4.0</td>\n",
       "      <td>11.0</td>\n",
       "    </tr>\n",
       "    <tr>\n",
       "      <th>96854</th>\n",
       "      <td>suzukic01</td>\n",
       "      <td>2012</td>\n",
       "      <td>1</td>\n",
       "      <td>SEA</td>\n",
       "      <td>AL</td>\n",
       "      <td>95</td>\n",
       "      <td>402</td>\n",
       "      <td>49</td>\n",
       "      <td>105</td>\n",
       "      <td>15</td>\n",
       "      <td>...</td>\n",
       "      <td>28.0</td>\n",
       "      <td>15.0</td>\n",
       "      <td>2.0</td>\n",
       "      <td>17</td>\n",
       "      <td>40.0</td>\n",
       "      <td>4.0</td>\n",
       "      <td>0.0</td>\n",
       "      <td>0.0</td>\n",
       "      <td>4.0</td>\n",
       "      <td>10.0</td>\n",
       "    </tr>\n",
       "    <tr>\n",
       "      <th>96855</th>\n",
       "      <td>suzukic01</td>\n",
       "      <td>2012</td>\n",
       "      <td>2</td>\n",
       "      <td>NYA</td>\n",
       "      <td>AL</td>\n",
       "      <td>67</td>\n",
       "      <td>227</td>\n",
       "      <td>28</td>\n",
       "      <td>73</td>\n",
       "      <td>13</td>\n",
       "      <td>...</td>\n",
       "      <td>27.0</td>\n",
       "      <td>14.0</td>\n",
       "      <td>5.0</td>\n",
       "      <td>5</td>\n",
       "      <td>21.0</td>\n",
       "      <td>1.0</td>\n",
       "      <td>2.0</td>\n",
       "      <td>5.0</td>\n",
       "      <td>1.0</td>\n",
       "      <td>2.0</td>\n",
       "    </tr>\n",
       "    <tr>\n",
       "      <th>98266</th>\n",
       "      <td>suzukic01</td>\n",
       "      <td>2013</td>\n",
       "      <td>1</td>\n",
       "      <td>NYA</td>\n",
       "      <td>AL</td>\n",
       "      <td>150</td>\n",
       "      <td>520</td>\n",
       "      <td>57</td>\n",
       "      <td>136</td>\n",
       "      <td>15</td>\n",
       "      <td>...</td>\n",
       "      <td>35.0</td>\n",
       "      <td>20.0</td>\n",
       "      <td>4.0</td>\n",
       "      <td>26</td>\n",
       "      <td>63.0</td>\n",
       "      <td>4.0</td>\n",
       "      <td>1.0</td>\n",
       "      <td>6.0</td>\n",
       "      <td>2.0</td>\n",
       "      <td>6.0</td>\n",
       "    </tr>\n",
       "    <tr>\n",
       "      <th>99701</th>\n",
       "      <td>suzukic01</td>\n",
       "      <td>2014</td>\n",
       "      <td>1</td>\n",
       "      <td>NYA</td>\n",
       "      <td>AL</td>\n",
       "      <td>143</td>\n",
       "      <td>359</td>\n",
       "      <td>42</td>\n",
       "      <td>102</td>\n",
       "      <td>13</td>\n",
       "      <td>...</td>\n",
       "      <td>22.0</td>\n",
       "      <td>15.0</td>\n",
       "      <td>3.0</td>\n",
       "      <td>21</td>\n",
       "      <td>68.0</td>\n",
       "      <td>1.0</td>\n",
       "      <td>1.0</td>\n",
       "      <td>2.0</td>\n",
       "      <td>2.0</td>\n",
       "      <td>3.0</td>\n",
       "    </tr>\n",
       "    <tr>\n",
       "      <th>101177</th>\n",
       "      <td>suzukic01</td>\n",
       "      <td>2015</td>\n",
       "      <td>1</td>\n",
       "      <td>MIA</td>\n",
       "      <td>NL</td>\n",
       "      <td>153</td>\n",
       "      <td>398</td>\n",
       "      <td>45</td>\n",
       "      <td>91</td>\n",
       "      <td>5</td>\n",
       "      <td>...</td>\n",
       "      <td>21.0</td>\n",
       "      <td>11.0</td>\n",
       "      <td>5.0</td>\n",
       "      <td>31</td>\n",
       "      <td>51.0</td>\n",
       "      <td>1.0</td>\n",
       "      <td>0.0</td>\n",
       "      <td>5.0</td>\n",
       "      <td>4.0</td>\n",
       "      <td>8.0</td>\n",
       "    </tr>\n",
       "    <tr>\n",
       "      <th>102669</th>\n",
       "      <td>suzukic01</td>\n",
       "      <td>2016</td>\n",
       "      <td>1</td>\n",
       "      <td>MIA</td>\n",
       "      <td>NL</td>\n",
       "      <td>143</td>\n",
       "      <td>327</td>\n",
       "      <td>48</td>\n",
       "      <td>95</td>\n",
       "      <td>15</td>\n",
       "      <td>...</td>\n",
       "      <td>22.0</td>\n",
       "      <td>10.0</td>\n",
       "      <td>2.0</td>\n",
       "      <td>30</td>\n",
       "      <td>42.0</td>\n",
       "      <td>1.0</td>\n",
       "      <td>3.0</td>\n",
       "      <td>3.0</td>\n",
       "      <td>2.0</td>\n",
       "      <td>4.0</td>\n",
       "    </tr>\n",
       "    <tr>\n",
       "      <th>104149</th>\n",
       "      <td>suzukic01</td>\n",
       "      <td>2017</td>\n",
       "      <td>1</td>\n",
       "      <td>MIA</td>\n",
       "      <td>NL</td>\n",
       "      <td>136</td>\n",
       "      <td>196</td>\n",
       "      <td>19</td>\n",
       "      <td>50</td>\n",
       "      <td>6</td>\n",
       "      <td>...</td>\n",
       "      <td>20.0</td>\n",
       "      <td>1.0</td>\n",
       "      <td>1.0</td>\n",
       "      <td>17</td>\n",
       "      <td>35.0</td>\n",
       "      <td>1.0</td>\n",
       "      <td>1.0</td>\n",
       "      <td>1.0</td>\n",
       "      <td>0.0</td>\n",
       "      <td>2.0</td>\n",
       "    </tr>\n",
       "  </tbody>\n",
       "</table>\n",
       "<p>18 rows × 22 columns</p>\n",
       "</div>"
      ],
      "text/plain": [
       "         playerID  yearID  stint teamID lgID    G   AB    R    H  2B  ...   \\\n",
       "81815   suzukic01    2001      1    SEA   AL  157  692  127  242  34  ...    \n",
       "83143   suzukic01    2002      1    SEA   AL  157  647  111  208  27  ...    \n",
       "84473   suzukic01    2003      1    SEA   AL  159  679  111  212  29  ...    \n",
       "85828   suzukic01    2004      1    SEA   AL  161  704  101  262  24  ...    \n",
       "87151   suzukic01    2005      1    SEA   AL  162  679  111  206  21  ...    \n",
       "88528   suzukic01    2006      1    SEA   AL  161  695  110  224  20  ...    \n",
       "89914   suzukic01    2007      1    SEA   AL  161  678  111  238  22  ...    \n",
       "91307   suzukic01    2008      1    SEA   AL  162  686  103  213  20  ...    \n",
       "92691   suzukic01    2009      1    SEA   AL  146  639   88  225  31  ...    \n",
       "94053   suzukic01    2010      1    SEA   AL  162  680   74  214  30  ...    \n",
       "95430   suzukic01    2011      1    SEA   AL  161  677   80  184  22  ...    \n",
       "96854   suzukic01    2012      1    SEA   AL   95  402   49  105  15  ...    \n",
       "96855   suzukic01    2012      2    NYA   AL   67  227   28   73  13  ...    \n",
       "98266   suzukic01    2013      1    NYA   AL  150  520   57  136  15  ...    \n",
       "99701   suzukic01    2014      1    NYA   AL  143  359   42  102  13  ...    \n",
       "101177  suzukic01    2015      1    MIA   NL  153  398   45   91   5  ...    \n",
       "102669  suzukic01    2016      1    MIA   NL  143  327   48   95  15  ...    \n",
       "104149  suzukic01    2017      1    MIA   NL  136  196   19   50   6  ...    \n",
       "\n",
       "         RBI    SB    CS  BB    SO   IBB  HBP   SH   SF  GIDP  \n",
       "81815   69.0  56.0  14.0  30  53.0  10.0  8.0  4.0  4.0   3.0  \n",
       "83143   51.0  31.0  15.0  68  62.0  27.0  5.0  3.0  5.0   8.0  \n",
       "84473   62.0  34.0   8.0  36  69.0   7.0  6.0  3.0  1.0   3.0  \n",
       "85828   60.0  36.0  11.0  49  63.0  19.0  4.0  2.0  3.0   6.0  \n",
       "87151   68.0  33.0   8.0  48  66.0  23.0  4.0  2.0  6.0   5.0  \n",
       "88528   49.0  45.0   2.0  49  71.0  16.0  5.0  1.0  2.0   2.0  \n",
       "89914   68.0  37.0   8.0  49  77.0  13.0  3.0  4.0  2.0   7.0  \n",
       "91307   42.0  43.0   4.0  51  65.0  12.0  5.0  3.0  4.0   8.0  \n",
       "92691   46.0  26.0   9.0  32  71.0  15.0  4.0  2.0  1.0   1.0  \n",
       "94053   43.0  42.0   9.0  45  86.0  13.0  3.0  3.0  1.0   3.0  \n",
       "95430   47.0  40.0   7.0  39  69.0  13.0  0.0  1.0  4.0  11.0  \n",
       "96854   28.0  15.0   2.0  17  40.0   4.0  0.0  0.0  4.0  10.0  \n",
       "96855   27.0  14.0   5.0   5  21.0   1.0  2.0  5.0  1.0   2.0  \n",
       "98266   35.0  20.0   4.0  26  63.0   4.0  1.0  6.0  2.0   6.0  \n",
       "99701   22.0  15.0   3.0  21  68.0   1.0  1.0  2.0  2.0   3.0  \n",
       "101177  21.0  11.0   5.0  31  51.0   1.0  0.0  5.0  4.0   8.0  \n",
       "102669  22.0  10.0   2.0  30  42.0   1.0  3.0  3.0  2.0   4.0  \n",
       "104149  20.0   1.0   1.0  17  35.0   1.0  1.0  1.0  0.0   2.0  \n",
       "\n",
       "[18 rows x 22 columns]"
      ]
     },
     "execution_count": 145,
     "metadata": {},
     "output_type": "execute_result"
    }
   ],
   "source": [
    "#Checking Ichiro's career stats to make sure the year is correct for his record breaking hits year.\n",
    "Batting.query(\"playerID == 'suzukic01'\")"
   ]
  },
  {
   "cell_type": "code",
   "execution_count": 120,
   "metadata": {},
   "outputs": [],
   "source": [
    "df7 = pd.merge(Batting, appearances, on='playerID', how='inner')\n",
    "\n"
   ]
  },
  {
   "cell_type": "code",
   "execution_count": 10,
   "metadata": {},
   "outputs": [
    {
     "data": {
      "text/plain": [
       "(953, 1247)"
      ]
     },
     "execution_count": 10,
     "metadata": {},
     "output_type": "execute_result"
    }
   ],
   "source": [
    "ABs = df6.query(\"yearID_x == 2004 and AB > 0\")\n",
    "\n",
    "All_at_Bats = df4.query(\"yearID_x == '2004' and AB >= 0\")\n",
    "\n",
    "len(ABs), len(All_at_Bats)"
   ]
  },
  {
   "cell_type": "code",
   "execution_count": 11,
   "metadata": {},
   "outputs": [
    {
     "data": {
      "text/html": [
       "<div>\n",
       "<style scoped>\n",
       "    .dataframe tbody tr th:only-of-type {\n",
       "        vertical-align: middle;\n",
       "    }\n",
       "\n",
       "    .dataframe tbody tr th {\n",
       "        vertical-align: top;\n",
       "    }\n",
       "\n",
       "    .dataframe thead th {\n",
       "        text-align: right;\n",
       "    }\n",
       "</style>\n",
       "<table border=\"1\" class=\"dataframe\">\n",
       "  <thead>\n",
       "    <tr style=\"text-align: right;\">\n",
       "      <th></th>\n",
       "      <th>playerID</th>\n",
       "      <th>yearID_x</th>\n",
       "      <th>stint</th>\n",
       "      <th>teamID_x</th>\n",
       "      <th>lgID_x</th>\n",
       "      <th>G</th>\n",
       "      <th>AB</th>\n",
       "      <th>R</th>\n",
       "      <th>H</th>\n",
       "      <th>2B</th>\n",
       "      <th>...</th>\n",
       "      <th>G_2b</th>\n",
       "      <th>G_3b</th>\n",
       "      <th>G_ss</th>\n",
       "      <th>G_lf</th>\n",
       "      <th>G_cf</th>\n",
       "      <th>G_rf</th>\n",
       "      <th>G_of</th>\n",
       "      <th>G_dh</th>\n",
       "      <th>G_ph</th>\n",
       "      <th>G_pr</th>\n",
       "    </tr>\n",
       "  </thead>\n",
       "  <tbody>\n",
       "    <tr>\n",
       "      <th>5</th>\n",
       "      <td>abreubo01</td>\n",
       "      <td>2004</td>\n",
       "      <td>1</td>\n",
       "      <td>PHI</td>\n",
       "      <td>NL</td>\n",
       "      <td>159</td>\n",
       "      <td>574</td>\n",
       "      <td>118</td>\n",
       "      <td>173</td>\n",
       "      <td>47</td>\n",
       "      <td>...</td>\n",
       "      <td>0</td>\n",
       "      <td>0</td>\n",
       "      <td>0</td>\n",
       "      <td>0</td>\n",
       "      <td>0</td>\n",
       "      <td>158</td>\n",
       "      <td>158</td>\n",
       "      <td>0.0</td>\n",
       "      <td>2.0</td>\n",
       "      <td>0.0</td>\n",
       "    </tr>\n",
       "    <tr>\n",
       "      <th>6</th>\n",
       "      <td>acevejo01</td>\n",
       "      <td>2004</td>\n",
       "      <td>1</td>\n",
       "      <td>CIN</td>\n",
       "      <td>NL</td>\n",
       "      <td>39</td>\n",
       "      <td>43</td>\n",
       "      <td>0</td>\n",
       "      <td>2</td>\n",
       "      <td>0</td>\n",
       "      <td>...</td>\n",
       "      <td>0</td>\n",
       "      <td>0</td>\n",
       "      <td>0</td>\n",
       "      <td>0</td>\n",
       "      <td>0</td>\n",
       "      <td>0</td>\n",
       "      <td>0</td>\n",
       "      <td>0.0</td>\n",
       "      <td>0.0</td>\n",
       "      <td>0.0</td>\n",
       "    </tr>\n",
       "    <tr>\n",
       "      <th>8</th>\n",
       "      <td>adamsru01</td>\n",
       "      <td>2004</td>\n",
       "      <td>1</td>\n",
       "      <td>TOR</td>\n",
       "      <td>AL</td>\n",
       "      <td>22</td>\n",
       "      <td>72</td>\n",
       "      <td>10</td>\n",
       "      <td>22</td>\n",
       "      <td>2</td>\n",
       "      <td>...</td>\n",
       "      <td>0</td>\n",
       "      <td>0</td>\n",
       "      <td>21</td>\n",
       "      <td>0</td>\n",
       "      <td>0</td>\n",
       "      <td>0</td>\n",
       "      <td>0</td>\n",
       "      <td>0.0</td>\n",
       "      <td>4.0</td>\n",
       "      <td>0.0</td>\n",
       "    </tr>\n",
       "    <tr>\n",
       "      <th>15</th>\n",
       "      <td>aguilch01</td>\n",
       "      <td>2004</td>\n",
       "      <td>1</td>\n",
       "      <td>FLO</td>\n",
       "      <td>NL</td>\n",
       "      <td>29</td>\n",
       "      <td>45</td>\n",
       "      <td>10</td>\n",
       "      <td>10</td>\n",
       "      <td>2</td>\n",
       "      <td>...</td>\n",
       "      <td>0</td>\n",
       "      <td>0</td>\n",
       "      <td>0</td>\n",
       "      <td>6</td>\n",
       "      <td>0</td>\n",
       "      <td>14</td>\n",
       "      <td>20</td>\n",
       "      <td>0.0</td>\n",
       "      <td>8.0</td>\n",
       "      <td>4.0</td>\n",
       "    </tr>\n",
       "    <tr>\n",
       "      <th>17</th>\n",
       "      <td>alexama02</td>\n",
       "      <td>2004</td>\n",
       "      <td>1</td>\n",
       "      <td>TEX</td>\n",
       "      <td>AL</td>\n",
       "      <td>21</td>\n",
       "      <td>21</td>\n",
       "      <td>3</td>\n",
       "      <td>5</td>\n",
       "      <td>2</td>\n",
       "      <td>...</td>\n",
       "      <td>11</td>\n",
       "      <td>3</td>\n",
       "      <td>7</td>\n",
       "      <td>0</td>\n",
       "      <td>0</td>\n",
       "      <td>0</td>\n",
       "      <td>0</td>\n",
       "      <td>0.0</td>\n",
       "      <td>0.0</td>\n",
       "      <td>4.0</td>\n",
       "    </tr>\n",
       "  </tbody>\n",
       "</table>\n",
       "<p>5 rows × 42 columns</p>\n",
       "</div>"
      ],
      "text/plain": [
       "     playerID  yearID_x  stint teamID_x lgID_x    G   AB    R    H  2B  ...   \\\n",
       "5   abreubo01      2004      1      PHI     NL  159  574  118  173  47  ...    \n",
       "6   acevejo01      2004      1      CIN     NL   39   43    0    2   0  ...    \n",
       "8   adamsru01      2004      1      TOR     AL   22   72   10   22   2  ...    \n",
       "15  aguilch01      2004      1      FLO     NL   29   45   10   10   2  ...    \n",
       "17  alexama02      2004      1      TEX     AL   21   21    3    5   2  ...    \n",
       "\n",
       "    G_2b  G_3b  G_ss  G_lf  G_cf  G_rf  G_of  G_dh  G_ph  G_pr  \n",
       "5      0     0     0     0     0   158   158   0.0   2.0   0.0  \n",
       "6      0     0     0     0     0     0     0   0.0   0.0   0.0  \n",
       "8      0     0    21     0     0     0     0   0.0   4.0   0.0  \n",
       "15     0     0     0     6     0    14    20   0.0   8.0   4.0  \n",
       "17    11     3     7     0     0     0     0   0.0   0.0   4.0  \n",
       "\n",
       "[5 rows x 42 columns]"
      ]
     },
     "execution_count": 11,
     "metadata": {},
     "output_type": "execute_result"
    }
   ],
   "source": [
    "ABs.head()"
   ]
  },
  {
   "cell_type": "code",
   "execution_count": 12,
   "metadata": {},
   "outputs": [],
   "source": [
    "ABs.to_csv('ABs.csv', sep='\\t')"
   ]
  },
  {
   "cell_type": "code",
   "execution_count": 13,
   "metadata": {},
   "outputs": [],
   "source": [
    " ABs = ABs.drop_duplicates(\"playerID\")"
   ]
  },
  {
   "cell_type": "code",
   "execution_count": 14,
   "metadata": {},
   "outputs": [
    {
     "data": {
      "text/html": [
       "<div>\n",
       "<style scoped>\n",
       "    .dataframe tbody tr th:only-of-type {\n",
       "        vertical-align: middle;\n",
       "    }\n",
       "\n",
       "    .dataframe tbody tr th {\n",
       "        vertical-align: top;\n",
       "    }\n",
       "\n",
       "    .dataframe thead th {\n",
       "        text-align: right;\n",
       "    }\n",
       "</style>\n",
       "<table border=\"1\" class=\"dataframe\">\n",
       "  <thead>\n",
       "    <tr style=\"text-align: right;\">\n",
       "      <th></th>\n",
       "      <th>playerID</th>\n",
       "      <th>yearID_x</th>\n",
       "      <th>stint</th>\n",
       "      <th>teamID_x</th>\n",
       "      <th>lgID_x</th>\n",
       "      <th>G</th>\n",
       "      <th>AB</th>\n",
       "      <th>R</th>\n",
       "      <th>H</th>\n",
       "      <th>2B</th>\n",
       "      <th>...</th>\n",
       "      <th>G_2b</th>\n",
       "      <th>G_3b</th>\n",
       "      <th>G_ss</th>\n",
       "      <th>G_lf</th>\n",
       "      <th>G_cf</th>\n",
       "      <th>G_rf</th>\n",
       "      <th>G_of</th>\n",
       "      <th>G_dh</th>\n",
       "      <th>G_ph</th>\n",
       "      <th>G_pr</th>\n",
       "    </tr>\n",
       "  </thead>\n",
       "  <tbody>\n",
       "    <tr>\n",
       "      <th>1360</th>\n",
       "      <td>suzukic01</td>\n",
       "      <td>2004</td>\n",
       "      <td>1</td>\n",
       "      <td>SEA</td>\n",
       "      <td>AL</td>\n",
       "      <td>161</td>\n",
       "      <td>704</td>\n",
       "      <td>101</td>\n",
       "      <td>262</td>\n",
       "      <td>24</td>\n",
       "      <td>...</td>\n",
       "      <td>0</td>\n",
       "      <td>0</td>\n",
       "      <td>0</td>\n",
       "      <td>0</td>\n",
       "      <td>0</td>\n",
       "      <td>158</td>\n",
       "      <td>158</td>\n",
       "      <td>3.0</td>\n",
       "      <td>0.0</td>\n",
       "      <td>1.0</td>\n",
       "    </tr>\n",
       "  </tbody>\n",
       "</table>\n",
       "<p>1 rows × 42 columns</p>\n",
       "</div>"
      ],
      "text/plain": [
       "       playerID  yearID_x  stint teamID_x lgID_x    G   AB    R    H  2B  \\\n",
       "1360  suzukic01      2004      1      SEA     AL  161  704  101  262  24   \n",
       "\n",
       "      ...   G_2b  G_3b  G_ss  G_lf  G_cf  G_rf  G_of  G_dh  G_ph  G_pr  \n",
       "1360  ...      0     0     0     0     0   158   158   3.0   0.0   1.0  \n",
       "\n",
       "[1 rows x 42 columns]"
      ]
     },
     "execution_count": 14,
     "metadata": {},
     "output_type": "execute_result"
    }
   ],
   "source": [
    "ABs.query(\"playerID == 'suzukic01'\")"
   ]
  },
  {
   "cell_type": "code",
   "execution_count": 15,
   "metadata": {},
   "outputs": [
    {
     "data": {
      "text/plain": [
       "43345"
      ]
     },
     "execution_count": 15,
     "metadata": {},
     "output_type": "execute_result"
    }
   ],
   "source": [
    "#hits for the entire league\n",
    "\n",
    "batting_sum = ABs['H'].sum()\n",
    "\n",
    "batting_sum"
   ]
  },
  {
   "cell_type": "code",
   "execution_count": 16,
   "metadata": {},
   "outputs": [],
   "source": [
    "sorted_hits = ABs.sort_values('H', ascending=False)"
   ]
  },
  {
   "cell_type": "code",
   "execution_count": 17,
   "metadata": {},
   "outputs": [
    {
     "data": {
      "text/plain": [
       "30"
      ]
     },
     "execution_count": 17,
     "metadata": {},
     "output_type": "execute_result"
    }
   ],
   "source": [
    "#the group that Price's Law will be checked with\n",
    "\n",
    "Price_check = int(math.sqrt(len(sorted_hits)))\n",
    "\n",
    "top_hitters = sorted_hits.iloc[:Price_check]\n",
    "\n",
    "Price_check"
   ]
  },
  {
   "cell_type": "code",
   "execution_count": 18,
   "metadata": {},
   "outputs": [
    {
     "data": {
      "text/plain": [
       "0.13254123889721997"
      ]
     },
     "execution_count": 18,
     "metadata": {},
     "output_type": "execute_result"
    }
   ],
   "source": [
    "top_hitters['H'].sum() / batting_sum"
   ]
  },
  {
   "cell_type": "code",
   "execution_count": 19,
   "metadata": {},
   "outputs": [
    {
     "data": {
      "text/plain": [
       "0.03131115459882583"
      ]
     },
     "execution_count": 19,
     "metadata": {},
     "output_type": "execute_result"
    }
   ],
   "source": [
    "32 / 1022"
   ]
  },
  {
   "cell_type": "code",
   "execution_count": 20,
   "metadata": {},
   "outputs": [
    {
     "data": {
      "text/plain": [
       "18415"
      ]
     },
     "execution_count": 20,
     "metadata": {},
     "output_type": "execute_result"
    }
   ],
   "source": [
    "top_hitters['AB'].sum()"
   ]
  },
  {
   "cell_type": "code",
   "execution_count": 21,
   "metadata": {},
   "outputs": [
    {
     "data": {
      "text/plain": [
       "162452"
      ]
     },
     "execution_count": 21,
     "metadata": {},
     "output_type": "execute_result"
    }
   ],
   "source": [
    "ABs['AB'].sum()"
   ]
  },
  {
   "cell_type": "code",
   "execution_count": 22,
   "metadata": {},
   "outputs": [],
   "source": [
    "#the group that Pareto's Law will be checked against\n",
    "pareto_hitters = sorted_hits.iloc[:int(len(ABs)/5)]"
   ]
  },
  {
   "cell_type": "code",
   "execution_count": 74,
   "metadata": {},
   "outputs": [
    {
     "data": {
      "text/html": [
       "<div>\n",
       "<style scoped>\n",
       "    .dataframe tbody tr th:only-of-type {\n",
       "        vertical-align: middle;\n",
       "    }\n",
       "\n",
       "    .dataframe tbody tr th {\n",
       "        vertical-align: top;\n",
       "    }\n",
       "\n",
       "    .dataframe thead th {\n",
       "        text-align: right;\n",
       "    }\n",
       "</style>\n",
       "<table border=\"1\" class=\"dataframe\">\n",
       "  <thead>\n",
       "    <tr style=\"text-align: right;\">\n",
       "      <th></th>\n",
       "      <th>playerID</th>\n",
       "      <th>yearID_x</th>\n",
       "      <th>stint</th>\n",
       "      <th>teamID_x</th>\n",
       "      <th>lgID_x</th>\n",
       "      <th>G</th>\n",
       "      <th>AB</th>\n",
       "      <th>R</th>\n",
       "      <th>H</th>\n",
       "      <th>2B</th>\n",
       "      <th>...</th>\n",
       "      <th>G_2b</th>\n",
       "      <th>G_3b</th>\n",
       "      <th>G_ss</th>\n",
       "      <th>G_lf</th>\n",
       "      <th>G_cf</th>\n",
       "      <th>G_rf</th>\n",
       "      <th>G_of</th>\n",
       "      <th>G_dh</th>\n",
       "      <th>G_ph</th>\n",
       "      <th>G_pr</th>\n",
       "    </tr>\n",
       "  </thead>\n",
       "  <tbody>\n",
       "    <tr>\n",
       "      <th>1360</th>\n",
       "      <td>suzukic01</td>\n",
       "      <td>2004</td>\n",
       "      <td>1</td>\n",
       "      <td>SEA</td>\n",
       "      <td>AL</td>\n",
       "      <td>161</td>\n",
       "      <td>704</td>\n",
       "      <td>101</td>\n",
       "      <td>262</td>\n",
       "      <td>24</td>\n",
       "      <td>...</td>\n",
       "      <td>0</td>\n",
       "      <td>0</td>\n",
       "      <td>0</td>\n",
       "      <td>0</td>\n",
       "      <td>0</td>\n",
       "      <td>158</td>\n",
       "      <td>158</td>\n",
       "      <td>3.0</td>\n",
       "      <td>0.0</td>\n",
       "      <td>1.0</td>\n",
       "    </tr>\n",
       "    <tr>\n",
       "      <th>1153</th>\n",
       "      <td>pierrju01</td>\n",
       "      <td>2004</td>\n",
       "      <td>1</td>\n",
       "      <td>FLO</td>\n",
       "      <td>NL</td>\n",
       "      <td>162</td>\n",
       "      <td>678</td>\n",
       "      <td>100</td>\n",
       "      <td>221</td>\n",
       "      <td>22</td>\n",
       "      <td>...</td>\n",
       "      <td>0</td>\n",
       "      <td>0</td>\n",
       "      <td>0</td>\n",
       "      <td>0</td>\n",
       "      <td>162</td>\n",
       "      <td>0</td>\n",
       "      <td>162</td>\n",
       "      <td>0.0</td>\n",
       "      <td>0.0</td>\n",
       "      <td>0.0</td>\n",
       "    </tr>\n",
       "    <tr>\n",
       "      <th>1543</th>\n",
       "      <td>youngmi02</td>\n",
       "      <td>2004</td>\n",
       "      <td>1</td>\n",
       "      <td>TEX</td>\n",
       "      <td>AL</td>\n",
       "      <td>160</td>\n",
       "      <td>690</td>\n",
       "      <td>114</td>\n",
       "      <td>216</td>\n",
       "      <td>33</td>\n",
       "      <td>...</td>\n",
       "      <td>0</td>\n",
       "      <td>0</td>\n",
       "      <td>158</td>\n",
       "      <td>0</td>\n",
       "      <td>0</td>\n",
       "      <td>0</td>\n",
       "      <td>0</td>\n",
       "      <td>2.0</td>\n",
       "      <td>0.0</td>\n",
       "      <td>0.0</td>\n",
       "    </tr>\n",
       "    <tr>\n",
       "      <th>886</th>\n",
       "      <td>loretma01</td>\n",
       "      <td>2004</td>\n",
       "      <td>1</td>\n",
       "      <td>SDN</td>\n",
       "      <td>NL</td>\n",
       "      <td>154</td>\n",
       "      <td>620</td>\n",
       "      <td>108</td>\n",
       "      <td>208</td>\n",
       "      <td>47</td>\n",
       "      <td>...</td>\n",
       "      <td>154</td>\n",
       "      <td>0</td>\n",
       "      <td>0</td>\n",
       "      <td>0</td>\n",
       "      <td>0</td>\n",
       "      <td>0</td>\n",
       "      <td>0</td>\n",
       "      <td>0.0</td>\n",
       "      <td>0.0</td>\n",
       "      <td>0.0</td>\n",
       "    </tr>\n",
       "    <tr>\n",
       "      <th>610</th>\n",
       "      <td>guerrvl01</td>\n",
       "      <td>2004</td>\n",
       "      <td>1</td>\n",
       "      <td>ANA</td>\n",
       "      <td>AL</td>\n",
       "      <td>156</td>\n",
       "      <td>612</td>\n",
       "      <td>124</td>\n",
       "      <td>206</td>\n",
       "      <td>39</td>\n",
       "      <td>...</td>\n",
       "      <td>0</td>\n",
       "      <td>0</td>\n",
       "      <td>0</td>\n",
       "      <td>0</td>\n",
       "      <td>0</td>\n",
       "      <td>143</td>\n",
       "      <td>143</td>\n",
       "      <td>13.0</td>\n",
       "      <td>0.0</td>\n",
       "      <td>0.0</td>\n",
       "    </tr>\n",
       "  </tbody>\n",
       "</table>\n",
       "<p>5 rows × 42 columns</p>\n",
       "</div>"
      ],
      "text/plain": [
       "       playerID  yearID_x  stint teamID_x lgID_x    G   AB    R    H  2B  \\\n",
       "1360  suzukic01      2004      1      SEA     AL  161  704  101  262  24   \n",
       "1153  pierrju01      2004      1      FLO     NL  162  678  100  221  22   \n",
       "1543  youngmi02      2004      1      TEX     AL  160  690  114  216  33   \n",
       "886   loretma01      2004      1      SDN     NL  154  620  108  208  47   \n",
       "610   guerrvl01      2004      1      ANA     AL  156  612  124  206  39   \n",
       "\n",
       "      ...   G_2b  G_3b  G_ss  G_lf  G_cf  G_rf  G_of  G_dh  G_ph  G_pr  \n",
       "1360  ...      0     0     0     0     0   158   158   3.0   0.0   1.0  \n",
       "1153  ...      0     0     0     0   162     0   162   0.0   0.0   0.0  \n",
       "1543  ...      0     0   158     0     0     0     0   2.0   0.0   0.0  \n",
       "886   ...    154     0     0     0     0     0     0   0.0   0.0   0.0  \n",
       "610   ...      0     0     0     0     0   143   143  13.0   0.0   0.0  \n",
       "\n",
       "[5 rows x 42 columns]"
      ]
     },
     "execution_count": 74,
     "metadata": {},
     "output_type": "execute_result"
    }
   ],
   "source": [
    "pareto_hitters.head()"
   ]
  },
  {
   "cell_type": "code",
   "execution_count": 24,
   "metadata": {},
   "outputs": [
    {
     "data": {
      "text/plain": [
       "0.64766409043719"
      ]
     },
     "execution_count": 24,
     "metadata": {},
     "output_type": "execute_result"
    }
   ],
   "source": [
    "pareto_hitters['H'].sum() / batting_sum"
   ]
  },
  {
   "cell_type": "code",
   "execution_count": 25,
   "metadata": {},
   "outputs": [
    {
     "data": {
      "text/plain": [
       "0.606763844089331"
      ]
     },
     "execution_count": 25,
     "metadata": {},
     "output_type": "execute_result"
    }
   ],
   "source": [
    "pareto_hitters['AB'].sum() / ABs['AB'].sum()"
   ]
  },
  {
   "cell_type": "code",
   "execution_count": 146,
   "metadata": {},
   "outputs": [
    {
     "data": {
      "text/plain": [
       "(397, 556)"
      ]
     },
     "execution_count": 146,
     "metadata": {},
     "output_type": "execute_result"
    }
   ],
   "source": [
    "#the two leagues have different rules about who can be a hitter in a given game\n",
    "#distinguioshing between the two may prove useful\n",
    "\n",
    "AL_hitters = ABs.query(\"lgID_x == 'AL'\")\n",
    "\n",
    "NL_hitters = ABs.query(\"lgID_x == 'NL'\")\n",
    "\n",
    "len(AL_hitters), len(NL_hitters)"
   ]
  },
  {
   "cell_type": "code",
   "execution_count": 27,
   "metadata": {},
   "outputs": [
    {
     "data": {
      "text/plain": [
       "(20750, 22595)"
      ]
     },
     "execution_count": 27,
     "metadata": {},
     "output_type": "execute_result"
    }
   ],
   "source": [
    "AL_batting_sum = AL_hitters[\"H\"].sum()\n",
    "\n",
    "NL_batting_sum = NL_hitters[\"H\"].sum()\n",
    "\n",
    "\n",
    "AL_batting_sum , NL_batting_sum"
   ]
  },
  {
   "cell_type": "code",
   "execution_count": 28,
   "metadata": {},
   "outputs": [],
   "source": [
    "AL_hitters_sorted = AL_hitters.sort_values(\"H\", ascending=False)\n",
    "\n",
    "NL_hitters_sorted = NL_hitters.sort_values(\"H\", ascending=False)"
   ]
  },
  {
   "cell_type": "code",
   "execution_count": 29,
   "metadata": {},
   "outputs": [],
   "source": [
    "Price_AL = AL_hitters_sorted.iloc[:int(math.sqrt(len(AL_hitters)))]\n",
    "\n",
    "Price_NL = NL_hitters_sorted.iloc[:int(math.sqrt(len(NL_hitters)))]\n",
    "\n",
    "Pareto_AL = AL_hitters_sorted.iloc[:int(len(AL_hitters)/5)]\n",
    "\n",
    "Pareto_NL = NL_hitters_sorted.iloc[:int(len(NL_hitters)/5)]"
   ]
  },
  {
   "cell_type": "code",
   "execution_count": 30,
   "metadata": {},
   "outputs": [
    {
     "data": {
      "text/plain": [
       "(3593, 0.1731566265060241)"
      ]
     },
     "execution_count": 30,
     "metadata": {},
     "output_type": "execute_result"
    }
   ],
   "source": [
    "Price_AL_sum = Price_AL[\"H\"].sum()\n",
    "\n",
    "Price_AL_sum,  Price_AL_sum/AL_batting_sum"
   ]
  },
  {
   "cell_type": "code",
   "execution_count": 31,
   "metadata": {},
   "outputs": [
    {
     "data": {
      "text/plain": [
       "(19, 23)"
      ]
     },
     "execution_count": 31,
     "metadata": {},
     "output_type": "execute_result"
    }
   ],
   "source": [
    "len(Price_AL), len(Price_NL)"
   ]
  },
  {
   "cell_type": "code",
   "execution_count": 32,
   "metadata": {},
   "outputs": [
    {
     "data": {
      "text/plain": [
       "(79, 111)"
      ]
     },
     "execution_count": 32,
     "metadata": {},
     "output_type": "execute_result"
    }
   ],
   "source": [
    "len(Pareto_AL), len(Pareto_NL)"
   ]
  },
  {
   "cell_type": "code",
   "execution_count": 133,
   "metadata": {},
   "outputs": [
    {
     "data": {
      "image/png": "[encoded data removed]",
      "text/plain": [
       "<Figure size 432x288 with 1 Axes>"
      ]
     },
     "metadata": {},
     "output_type": "display_data"
    }
   ],
   "source": [
    "Labels = ['Top 19 hitters', 'Rest']\n",
    "sections = [Price_AL_sum, (AL_batting_sum - Price_AL_sum)]\n",
    "\n",
    "\n",
    "fig1, ax1 = plt.subplots()\n",
    "ax1.pie(sections, labels= Labels, autopct='%1.1f%%')\n",
    "ax1.axis('equal')\n",
    "        \n",
    "plt.show()\n"
   ]
  },
  {
   "cell_type": "code",
   "execution_count": 132,
   "metadata": {},
   "outputs": [
    {
     "data": {
      "image/png": "[encoded data removed]",
      "text/plain": [
       "<Figure size 432x288 with 1 Axes>"
      ]
     },
     "metadata": {},
     "output_type": "display_data"
    }
   ],
   "source": [
    "Labels = ['Top 23 hitters', 'Rest']\n",
    "sections = [Price_NL_sum, (NL_batting_sum - Price_NL_sum)]\n",
    "\n",
    "\n",
    "fig1, ax1 = plt.subplots()\n",
    "ax1.pie(sections, labels= Labels, autopct='%1.1f%%')\n",
    "ax1.axis('equal')\n",
    "        \n",
    "plt.show()\n"
   ]
  },
  {
   "cell_type": "code",
   "execution_count": 33,
   "metadata": {},
   "outputs": [
    {
     "data": {
      "text/plain": [
       "(4219, 0.1867227262668732)"
      ]
     },
     "execution_count": 33,
     "metadata": {},
     "output_type": "execute_result"
    }
   ],
   "source": [
    "Price_NL_sum = Price_NL[\"H\"].sum()\n",
    "\n",
    "Price_NL_sum, Price_NL_sum/NL_batting_sum"
   ]
  },
  {
   "cell_type": "code",
   "execution_count": 34,
   "metadata": {},
   "outputs": [
    {
     "data": {
      "text/plain": [
       "(12279, 0.5917590361445784)"
      ]
     },
     "execution_count": 34,
     "metadata": {},
     "output_type": "execute_result"
    }
   ],
   "source": [
    "Pareto_AL_sum = Pareto_AL[\"H\"].sum()\n",
    "\n",
    "Pareto_AL_sum, Pareto_AL_sum/AL_batting_sum"
   ]
  },
  {
   "cell_type": "code",
   "execution_count": 134,
   "metadata": {},
   "outputs": [
    {
     "data": {
      "image/png": "[encoded data removed]",
      "text/plain": [
       "<Figure size 432x288 with 1 Axes>"
      ]
     },
     "metadata": {},
     "output_type": "display_data"
    }
   ],
   "source": [
    "Labels = ['Pareto group', 'Rest']\n",
    "sections = [Pareto_AL_sum, (AL_batting_sum - Pareto_AL_sum)]\n",
    "\n",
    "\n",
    "fig1, ax1 = plt.subplots()\n",
    "ax1.pie(sections, labels= Labels, autopct='%1.1f%%')\n",
    "ax1.axis('equal')\n",
    "        \n",
    "plt.show()\n"
   ]
  },
  {
   "cell_type": "code",
   "execution_count": 35,
   "metadata": {},
   "outputs": [
    {
     "data": {
      "text/plain": [
       "(15564, 0.6888249612746182)"
      ]
     },
     "execution_count": 35,
     "metadata": {},
     "output_type": "execute_result"
    }
   ],
   "source": [
    "Pareto_NL_sum = Pareto_NL[\"H\"].sum()\n",
    "\n",
    "Pareto_NL_sum, Pareto_NL_sum/NL_batting_sum"
   ]
  },
  {
   "cell_type": "code",
   "execution_count": 135,
   "metadata": {},
   "outputs": [
    {
     "data": {
      "image/png": "[encoded data removed]",
      "text/plain": [
       "<Figure size 432x288 with 1 Axes>"
      ]
     },
     "metadata": {},
     "output_type": "display_data"
    }
   ],
   "source": [
    "Labels = ['Pareto group', 'Rest']\n",
    "sections = [Pareto_NL_sum, (NL_batting_sum - Pareto_NL_sum)]\n",
    "\n",
    "\n",
    "fig1, ax1 = plt.subplots()\n",
    "ax1.pie(sections, labels= Labels, autopct='%1.1f%%')\n",
    "ax1.axis('equal')\n",
    "        \n",
    "plt.show()"
   ]
  },
  {
   "cell_type": "code",
   "execution_count": 72,
   "metadata": {},
   "outputs": [
    {
     "data": {
      "text/html": [
       "<div>\n",
       "<style scoped>\n",
       "    .dataframe tbody tr th:only-of-type {\n",
       "        vertical-align: middle;\n",
       "    }\n",
       "\n",
       "    .dataframe tbody tr th {\n",
       "        vertical-align: top;\n",
       "    }\n",
       "\n",
       "    .dataframe thead th {\n",
       "        text-align: right;\n",
       "    }\n",
       "</style>\n",
       "<table border=\"1\" class=\"dataframe\">\n",
       "  <thead>\n",
       "    <tr style=\"text-align: right;\">\n",
       "      <th></th>\n",
       "      <th>playerID</th>\n",
       "      <th>yearID_x</th>\n",
       "      <th>stint</th>\n",
       "      <th>teamID_x</th>\n",
       "      <th>lgID_x</th>\n",
       "      <th>G</th>\n",
       "      <th>AB</th>\n",
       "      <th>R</th>\n",
       "      <th>H</th>\n",
       "      <th>2B</th>\n",
       "      <th>...</th>\n",
       "      <th>G_2b</th>\n",
       "      <th>G_3b</th>\n",
       "      <th>G_ss</th>\n",
       "      <th>G_lf</th>\n",
       "      <th>G_cf</th>\n",
       "      <th>G_rf</th>\n",
       "      <th>G_of</th>\n",
       "      <th>G_dh</th>\n",
       "      <th>G_ph</th>\n",
       "      <th>G_pr</th>\n",
       "    </tr>\n",
       "  </thead>\n",
       "  <tbody>\n",
       "    <tr>\n",
       "      <th>1360</th>\n",
       "      <td>suzukic01</td>\n",
       "      <td>2004</td>\n",
       "      <td>1</td>\n",
       "      <td>SEA</td>\n",
       "      <td>AL</td>\n",
       "      <td>161</td>\n",
       "      <td>704</td>\n",
       "      <td>101</td>\n",
       "      <td>262</td>\n",
       "      <td>24</td>\n",
       "      <td>...</td>\n",
       "      <td>0</td>\n",
       "      <td>0</td>\n",
       "      <td>0</td>\n",
       "      <td>0</td>\n",
       "      <td>0</td>\n",
       "      <td>158</td>\n",
       "      <td>158</td>\n",
       "      <td>3.0</td>\n",
       "      <td>0.0</td>\n",
       "      <td>1.0</td>\n",
       "    </tr>\n",
       "    <tr>\n",
       "      <th>1543</th>\n",
       "      <td>youngmi02</td>\n",
       "      <td>2004</td>\n",
       "      <td>1</td>\n",
       "      <td>TEX</td>\n",
       "      <td>AL</td>\n",
       "      <td>160</td>\n",
       "      <td>690</td>\n",
       "      <td>114</td>\n",
       "      <td>216</td>\n",
       "      <td>33</td>\n",
       "      <td>...</td>\n",
       "      <td>0</td>\n",
       "      <td>0</td>\n",
       "      <td>158</td>\n",
       "      <td>0</td>\n",
       "      <td>0</td>\n",
       "      <td>0</td>\n",
       "      <td>0</td>\n",
       "      <td>2.0</td>\n",
       "      <td>0.0</td>\n",
       "      <td>0.0</td>\n",
       "    </tr>\n",
       "    <tr>\n",
       "      <th>610</th>\n",
       "      <td>guerrvl01</td>\n",
       "      <td>2004</td>\n",
       "      <td>1</td>\n",
       "      <td>ANA</td>\n",
       "      <td>AL</td>\n",
       "      <td>156</td>\n",
       "      <td>612</td>\n",
       "      <td>124</td>\n",
       "      <td>206</td>\n",
       "      <td>39</td>\n",
       "      <td>...</td>\n",
       "      <td>0</td>\n",
       "      <td>0</td>\n",
       "      <td>0</td>\n",
       "      <td>0</td>\n",
       "      <td>0</td>\n",
       "      <td>143</td>\n",
       "      <td>143</td>\n",
       "      <td>13.0</td>\n",
       "      <td>0.0</td>\n",
       "      <td>0.0</td>\n",
       "    </tr>\n",
       "    <tr>\n",
       "      <th>1374</th>\n",
       "      <td>tejadmi01</td>\n",
       "      <td>2004</td>\n",
       "      <td>1</td>\n",
       "      <td>BAL</td>\n",
       "      <td>AL</td>\n",
       "      <td>162</td>\n",
       "      <td>653</td>\n",
       "      <td>107</td>\n",
       "      <td>203</td>\n",
       "      <td>40</td>\n",
       "      <td>...</td>\n",
       "      <td>0</td>\n",
       "      <td>0</td>\n",
       "      <td>162</td>\n",
       "      <td>0</td>\n",
       "      <td>0</td>\n",
       "      <td>0</td>\n",
       "      <td>0</td>\n",
       "      <td>0.0</td>\n",
       "      <td>0.0</td>\n",
       "      <td>0.0</td>\n",
       "    </tr>\n",
       "    <tr>\n",
       "      <th>805</th>\n",
       "      <td>kotsama01</td>\n",
       "      <td>2004</td>\n",
       "      <td>1</td>\n",
       "      <td>OAK</td>\n",
       "      <td>AL</td>\n",
       "      <td>148</td>\n",
       "      <td>606</td>\n",
       "      <td>78</td>\n",
       "      <td>190</td>\n",
       "      <td>37</td>\n",
       "      <td>...</td>\n",
       "      <td>0</td>\n",
       "      <td>0</td>\n",
       "      <td>0</td>\n",
       "      <td>0</td>\n",
       "      <td>145</td>\n",
       "      <td>0</td>\n",
       "      <td>145</td>\n",
       "      <td>1.0</td>\n",
       "      <td>6.0</td>\n",
       "      <td>1.0</td>\n",
       "    </tr>\n",
       "  </tbody>\n",
       "</table>\n",
       "<p>5 rows × 42 columns</p>\n",
       "</div>"
      ],
      "text/plain": [
       "       playerID  yearID_x  stint teamID_x lgID_x    G   AB    R    H  2B  \\\n",
       "1360  suzukic01      2004      1      SEA     AL  161  704  101  262  24   \n",
       "1543  youngmi02      2004      1      TEX     AL  160  690  114  216  33   \n",
       "610   guerrvl01      2004      1      ANA     AL  156  612  124  206  39   \n",
       "1374  tejadmi01      2004      1      BAL     AL  162  653  107  203  40   \n",
       "805   kotsama01      2004      1      OAK     AL  148  606   78  190  37   \n",
       "\n",
       "      ...   G_2b  G_3b  G_ss  G_lf  G_cf  G_rf  G_of  G_dh  G_ph  G_pr  \n",
       "1360  ...      0     0     0     0     0   158   158   3.0   0.0   1.0  \n",
       "1543  ...      0     0   158     0     0     0     0   2.0   0.0   0.0  \n",
       "610   ...      0     0     0     0     0   143   143  13.0   0.0   0.0  \n",
       "1374  ...      0     0   162     0     0     0     0   0.0   0.0   0.0  \n",
       "805   ...      0     0     0     0   145     0   145   1.0   6.0   1.0  \n",
       "\n",
       "[5 rows x 42 columns]"
      ]
     },
     "execution_count": 72,
     "metadata": {},
     "output_type": "execute_result"
    }
   ],
   "source": [
    "Pareto_AL.head()"
   ]
  },
  {
   "cell_type": "code",
   "execution_count": 37,
   "metadata": {},
   "outputs": [
    {
     "data": {
      "text/plain": [
       "37.01114796211802"
      ]
     },
     "execution_count": 37,
     "metadata": {},
     "output_type": "execute_result"
    }
   ],
   "source": [
    "Batting_copy = Batting.copy()\n",
    "\n",
    "Batting_copy[\"H\"].mean()"
   ]
  },
  {
   "cell_type": "code",
   "execution_count": 38,
   "metadata": {},
   "outputs": [
    {
     "data": {
      "text/plain": [
       "(88461, 17109, 130.80137613954986)"
      ]
     },
     "execution_count": 38,
     "metadata": {},
     "output_type": "execute_result"
    }
   ],
   "source": [
    "name_list = Batting_copy.query(\"AB > 0\")\n",
    "\n",
    "name_list = name_list[\"playerID\"]\n",
    "\n",
    "len(name_list), len(set(name_list)), math.sqrt(len(set(name_list)))"
   ]
  },
  {
   "cell_type": "code",
   "execution_count": 39,
   "metadata": {},
   "outputs": [
    {
     "data": {
      "text/plain": [
       "3861151"
      ]
     },
     "execution_count": 39,
     "metadata": {},
     "output_type": "execute_result"
    }
   ],
   "source": [
    "Batting_copy['H'].sum()"
   ]
  },
  {
   "cell_type": "code",
   "execution_count": 40,
   "metadata": {},
   "outputs": [],
   "source": [
    "Batting_copy_sorted = Batting_copy.sort_values(\"H\", ascending=False)\n",
    "\n",
    "Price_check_all = Batting_copy_sorted.iloc[:int(math.sqrt(len(name_list)))]"
   ]
  },
  {
   "cell_type": "code",
   "execution_count": 41,
   "metadata": {},
   "outputs": [
    {
     "data": {
      "text/plain": [
       "0.01676572607494501"
      ]
     },
     "execution_count": 41,
     "metadata": {},
     "output_type": "execute_result"
    }
   ],
   "source": [
    "Price_check_all[\"H\"].sum() / Batting_copy['H'].sum()"
   ]
  },
  {
   "cell_type": "code",
   "execution_count": 73,
   "metadata": {},
   "outputs": [
    {
     "data": {
      "text/html": [
       "<div>\n",
       "<style scoped>\n",
       "    .dataframe tbody tr th:only-of-type {\n",
       "        vertical-align: middle;\n",
       "    }\n",
       "\n",
       "    .dataframe tbody tr th {\n",
       "        vertical-align: top;\n",
       "    }\n",
       "\n",
       "    .dataframe thead th {\n",
       "        text-align: right;\n",
       "    }\n",
       "</style>\n",
       "<table border=\"1\" class=\"dataframe\">\n",
       "  <thead>\n",
       "    <tr style=\"text-align: right;\">\n",
       "      <th></th>\n",
       "      <th>playerID</th>\n",
       "      <th>salary</th>\n",
       "      <th>yearID</th>\n",
       "      <th>team</th>\n",
       "      <th>league</th>\n",
       "    </tr>\n",
       "  </thead>\n",
       "  <tbody>\n",
       "    <tr>\n",
       "      <th>16386</th>\n",
       "      <td>Rodriguez, Alex</td>\n",
       "      <td>21726881</td>\n",
       "      <td>2004</td>\n",
       "      <td>NYY</td>\n",
       "      <td>AL:</td>\n",
       "    </tr>\n",
       "    <tr>\n",
       "      <th>16216</th>\n",
       "      <td>Ramirez, Manny</td>\n",
       "      <td>20409542</td>\n",
       "      <td>2004</td>\n",
       "      <td>Bos</td>\n",
       "      <td>AL</td>\n",
       "    </tr>\n",
       "    <tr>\n",
       "      <th>16526</th>\n",
       "      <td>Delgado, Carlos</td>\n",
       "      <td>19700000</td>\n",
       "      <td>2004</td>\n",
       "      <td>Tor</td>\n",
       "      <td>AL</td>\n",
       "    </tr>\n",
       "    <tr>\n",
       "      <th>16387</th>\n",
       "      <td>Jeter, Derek</td>\n",
       "      <td>18600000</td>\n",
       "      <td>2004</td>\n",
       "      <td>NYY</td>\n",
       "      <td>AL</td>\n",
       "    </tr>\n",
       "    <tr>\n",
       "      <th>16956</th>\n",
       "      <td>Bonds, Barry</td>\n",
       "      <td>18000000</td>\n",
       "      <td>2004</td>\n",
       "      <td>SF</td>\n",
       "      <td>NL</td>\n",
       "    </tr>\n",
       "  </tbody>\n",
       "</table>\n",
       "</div>"
      ],
      "text/plain": [
       "              playerID    salary  yearID team league\n",
       "16386  Rodriguez, Alex  21726881    2004  NYY    AL:\n",
       "16216   Ramirez, Manny  20409542    2004  Bos     AL\n",
       "16526  Delgado, Carlos  19700000    2004  Tor     AL\n",
       "16387     Jeter, Derek  18600000    2004  NYY     AL\n",
       "16956     Bonds, Barry  18000000    2004   SF     NL"
      ]
     },
     "execution_count": 73,
     "metadata": {},
     "output_type": "execute_result"
    }
   ],
   "source": [
    "salaries_oh_four_sorted = salaries_oh_four.sort_values(\"salary\", ascending=False)\n",
    "\n",
    "salaries_oh_four_sorted.head()"
   ]
  },
  {
   "cell_type": "code",
   "execution_count": 144,
   "metadata": {},
   "outputs": [
    {
     "data": {
      "text/html": [
       "<div>\n",
       "<style scoped>\n",
       "    .dataframe tbody tr th:only-of-type {\n",
       "        vertical-align: middle;\n",
       "    }\n",
       "\n",
       "    .dataframe tbody tr th {\n",
       "        vertical-align: top;\n",
       "    }\n",
       "\n",
       "    .dataframe thead th {\n",
       "        text-align: right;\n",
       "    }\n",
       "</style>\n",
       "<table border=\"1\" class=\"dataframe\">\n",
       "  <thead>\n",
       "    <tr style=\"text-align: right;\">\n",
       "      <th></th>\n",
       "      <th>playerID</th>\n",
       "      <th>salary</th>\n",
       "      <th>yearID</th>\n",
       "      <th>team</th>\n",
       "      <th>league</th>\n",
       "    </tr>\n",
       "  </thead>\n",
       "  <tbody>\n",
       "    <tr>\n",
       "      <th>16386</th>\n",
       "      <td>Rodriguez, Alex</td>\n",
       "      <td>21726881</td>\n",
       "      <td>2004</td>\n",
       "      <td>NYY</td>\n",
       "      <td>AL:</td>\n",
       "    </tr>\n",
       "    <tr>\n",
       "      <th>16216</th>\n",
       "      <td>Ramirez, Manny</td>\n",
       "      <td>20409542</td>\n",
       "      <td>2004</td>\n",
       "      <td>Bos</td>\n",
       "      <td>AL</td>\n",
       "    </tr>\n",
       "    <tr>\n",
       "      <th>16526</th>\n",
       "      <td>Delgado, Carlos</td>\n",
       "      <td>19700000</td>\n",
       "      <td>2004</td>\n",
       "      <td>Tor</td>\n",
       "      <td>AL</td>\n",
       "    </tr>\n",
       "    <tr>\n",
       "      <th>16387</th>\n",
       "      <td>Jeter, Derek</td>\n",
       "      <td>18600000</td>\n",
       "      <td>2004</td>\n",
       "      <td>NYY</td>\n",
       "      <td>AL</td>\n",
       "    </tr>\n",
       "    <tr>\n",
       "      <th>16956</th>\n",
       "      <td>Bonds, Barry</td>\n",
       "      <td>18000000</td>\n",
       "      <td>2004</td>\n",
       "      <td>SF</td>\n",
       "      <td>NL</td>\n",
       "    </tr>\n",
       "  </tbody>\n",
       "</table>\n",
       "</div>"
      ],
      "text/plain": [
       "              playerID    salary  yearID team league\n",
       "16386  Rodriguez, Alex  21726881    2004  NYY    AL:\n",
       "16216   Ramirez, Manny  20409542    2004  Bos     AL\n",
       "16526  Delgado, Carlos  19700000    2004  Tor     AL\n",
       "16387     Jeter, Derek  18600000    2004  NYY     AL\n",
       "16956     Bonds, Barry  18000000    2004   SF     NL"
      ]
     },
     "execution_count": 144,
     "metadata": {},
     "output_type": "execute_result"
    }
   ],
   "source": [
    "salaries_oh_four_sorted.head()"
   ]
  },
  {
   "cell_type": "code",
   "execution_count": 106,
   "metadata": {},
   "outputs": [
    {
     "data": {
      "text/plain": [
       "(165, 28)"
      ]
     },
     "execution_count": 106,
     "metadata": {},
     "output_type": "execute_result"
    }
   ],
   "source": [
    "salary_pareto = salaries_oh_four_sorted.iloc[:int(len(salaries_oh_four)/5)]\n",
    "\n",
    "salary_price = salaries_oh_four_sorted.iloc[: int(math.sqrt(len(salaries_oh_four)))]\n",
    "\n",
    "\n",
    "len(salary_pareto), len(salary_price)"
   ]
  },
  {
   "cell_type": "code",
   "execution_count": null,
   "metadata": {},
   "outputs": [],
   "source": []
  },
  {
   "cell_type": "code",
   "execution_count": 108,
   "metadata": {},
   "outputs": [
    {
     "data": {
      "text/plain": [
       "(2050573344, 2482534.314769976)"
      ]
     },
     "execution_count": 108,
     "metadata": {},
     "output_type": "execute_result"
    }
   ],
   "source": [
    "salaries_oh_four[\"salary\"].sum(), salaries_oh_four[\"salary\"].mean()"
   ]
  },
  {
   "cell_type": "code",
   "execution_count": 109,
   "metadata": {},
   "outputs": [],
   "source": [
    "pareto_sal_sum = salary_pareto[\"salary\"].sum()\n",
    "\n",
    "\n",
    "price_sal_sum = salary_price[\"salary\"].sum()"
   ]
  },
  {
   "cell_type": "code",
   "execution_count": 110,
   "metadata": {},
   "outputs": [
    {
     "data": {
      "text/plain": [
       "0.6763995465260471"
      ]
     },
     "execution_count": 110,
     "metadata": {},
     "output_type": "execute_result"
    }
   ],
   "source": [
    "pareto_sal_sum / salaries_oh_four[\"salary\"].sum()"
   ]
  },
  {
   "cell_type": "code",
   "execution_count": 111,
   "metadata": {},
   "outputs": [
    {
     "data": {
      "text/plain": [
       "0.20771415187185813"
      ]
     },
     "execution_count": 111,
     "metadata": {},
     "output_type": "execute_result"
    }
   ],
   "source": [
    "price_sal_sum / salaries_oh_four[\"salary\"].sum()"
   ]
  },
  {
   "cell_type": "code",
   "execution_count": 112,
   "metadata": {},
   "outputs": [
    {
     "data": {
      "text/plain": [
       "0.03389830508474576"
      ]
     },
     "execution_count": 112,
     "metadata": {},
     "output_type": "execute_result"
    }
   ],
   "source": [
    "len(salary_price)/ len(salaries_oh_four)"
   ]
  },
  {
   "cell_type": "code",
   "execution_count": 143,
   "metadata": {
    "scrolled": true
   },
   "outputs": [
    {
     "data": {
      "image/png": "[encoded data removed]",
      "text/plain": [
       "<Figure size 432x288 with 1 Axes>"
      ]
     },
     "metadata": {},
     "output_type": "display_data"
    }
   ],
   "source": [
    "Labels = ['Price group', 'Rest']\n",
    "sections = [price_sal_sum, (salaries_oh_four[\"salary\"].sum() - price_sal_sum)]\n",
    "\n",
    "\n",
    "fig1, ax1 = plt.subplots()\n",
    "ax1.pie(sections, labels= Labels, autopct='%1.1f%%')\n",
    "ax1.axis('equal')\n",
    "        \n",
    "plt.show()"
   ]
  },
  {
   "cell_type": "code",
   "execution_count": 142,
   "metadata": {},
   "outputs": [
    {
     "data": {
      "image/png": "[encoded data removed]",
      "text/plain": [
       "<Figure size 432x288 with 1 Axes>"
      ]
     },
     "metadata": {},
     "output_type": "display_data"
    }
   ],
   "source": [
    "Labels = ['Pareto group', 'Rest']\n",
    "sections = [pareto_sal_sum, (salaries_oh_four[\"salary\"].sum() - pareto_sal_sum)]\n",
    "\n",
    "\n",
    "fig1, ax1 = plt.subplots()\n",
    "ax1.pie(sections, labels= Labels, autopct='%1.1f%%')\n",
    "ax1.axis('equal')\n",
    "        \n",
    "plt.show()"
   ]
  },
  {
   "cell_type": "markdown",
   "metadata": {},
   "source": [
    "# Conclusion\n",
    "\n"
   ]
  },
  {
   "cell_type": "markdown",
   "metadata": {},
   "source": [
    "It appears that power laws may apply as good rules of thumb but would need to to altered in their original form. \n",
    "\n",
    "It does appear that the group of players that would fall into the Pareto distribution group (top 20%) are much more productive than the average player. The same goes for the even smaller group that would fall into the Price's law group but not nearly to the extent that might be predicted by the original formulation of Price's law. \n",
    "\n",
    "The hypothesis that the \"intellectual\" aspect of the game would be more subject to a power law seems to only have some validity. It might be true that the very top players get paid something like 10% more than their production on the field might suggest, salaries do not scale and produce similar results to intellectual products like software.\n",
    "\n",
    "One possible explanation is that the the contracts the league has with the players union prevent truly runaway salaries for the very top players (things like having a salary cap for example) If player salaries were operatiung in more of a free market there might be more money going to the very top players. \n",
    "\n",
    "Perhaps professional sports players were not the best group to judge the \"intellectual\" products on. Their salary is still dependent on factors outside their control as well as physical production. Ichiro, for example, was the most physically productive hitter in 2004 but his salary did not qualify him for being in the Price's law group. Since these contracts are signed for years at a time choosing any one year as a snapshot may not be representatiove of longterm trends (especially for individual players)"
   ]
  },
  {
   "cell_type": "code",
   "execution_count": null,
   "metadata": {},
   "outputs": [],
   "source": []
  }
 ],
 "metadata": {
  "kernelspec": {
   "display_name": "Python 3",
   "language": "python",
   "name": "python3"
  },
  "language_info": {
   "codemirror_mode": {
    "name": "ipython",
    "version": 3
   },
   "file_extension": ".py",
   "mimetype": "text/x-python",
   "name": "python",
   "nbconvert_exporter": "python",
   "pygments_lexer": "ipython3",
   "version": "3.5.5"
  }
 },
 "nbformat": 4,
 "nbformat_minor": 2
}
